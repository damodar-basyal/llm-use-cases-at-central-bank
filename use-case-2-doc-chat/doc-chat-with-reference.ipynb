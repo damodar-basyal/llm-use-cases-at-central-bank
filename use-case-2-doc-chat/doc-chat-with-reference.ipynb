{
 "cells": [
  {
   "cell_type": "code",
   "execution_count": 1,
   "metadata": {},
   "outputs": [],
   "source": [
    "import nest_asyncio\n",
    "\n",
    "nest_asyncio.apply()"
   ]
  },
  {
   "cell_type": "code",
   "execution_count": 2,
   "metadata": {},
   "outputs": [],
   "source": [
    "from llama_index.core import SimpleDirectoryReader\n",
    "reader= SimpleDirectoryReader(input_files=[\"../data/master-direction-rbi/Digital Payment Security Controls.pdf\"])\n",
    "docs= reader.load_data()"
   ]
  },
  {
   "cell_type": "code",
   "execution_count": 3,
   "metadata": {},
   "outputs": [
    {
     "name": "stdout",
     "output_type": "stream",
     "text": [
      "{'page_label': '1', 'file_name': 'Digital Payment Security Controls.pdf', 'file_path': '../data/master-direction-rbi/Digital Payment Security Controls.pdf', 'file_type': 'application/pdf', 'file_size': 267719, 'creation_date': '2025-01-17', 'last_modified_date': '2024-06-06'}\n"
     ]
    }
   ],
   "source": [
    "print(docs[0].metadata)"
   ]
  },
  {
   "cell_type": "code",
   "execution_count": 4,
   "metadata": {},
   "outputs": [],
   "source": [
    "#Build RAG Pipeline, Define Structured Output Schema\n",
    "from llama_index.core import VectorStoreIndex, StorageContext, load_index_from_storage\n",
    "from llama_index.embeddings.ollama import OllamaEmbedding\n",
    "from llama_index.core import Settings\n",
    "from llama_index.llms.mistralai import MistralAI\n",
    "import os\n",
    "from dotenv import load_dotenv\n",
    "\n",
    "load_dotenv()\n",
    "api_key=os.getenv(\"MISTRAL_API_KEY\")\n",
    "\n",
    "llm=MistralAI(api_key=api_key)\n",
    "embed_model=OllamaEmbedding(model_name=\"mxbai-embed-large\")\n",
    "Settings.llm=llm\n",
    "Settings.embed_model=embed_model"
   ]
  },
  {
   "cell_type": "code",
   "execution_count": 5,
   "metadata": {},
   "outputs": [],
   "source": [
    "#Building vectore store index\n",
    "index_directory='../data/master-direction-rbi/index'\n",
    "if not os.path.exists(index_directory+'/md-rbi-structured'):\n",
    "    index=VectorStoreIndex(docs)\n",
    "    index.storage_context.persist(persist_dir=index_directory+'/md-rbi-structured')\n",
    "else:\n",
    "    index= load_index_from_storage(StorageContext.from_defaults(persist_dir=index_directory+'/md-rbi-structured'))"
   ]
  },
  {
   "cell_type": "code",
   "execution_count": 6,
   "metadata": {},
   "outputs": [],
   "source": [
    "from llama_index.postprocessor.flag_embedding_reranker import FlagEmbeddingReranker\n",
    "\n",
    "reranker = FlagEmbeddingReranker(\n",
    "    top_n=5,\n",
    "    model=\"BAAI/bge-reranker-large\"\n",
    ")"
   ]
  },
  {
   "cell_type": "code",
   "execution_count": 7,
   "metadata": {},
   "outputs": [],
   "source": [
    "from pydantic import BaseModel, Field\n",
    "from typing import List\n",
    "\n",
    "class Output(BaseModel):\n",
    "    \"\"\"Output containing the response, page numbers, and confidence.\"\"\"\n",
    "\n",
    "    response: str= Field(..., description=\"The answer to the question.\")\n",
    "    page_numbers: List[int]= Field(..., description=\"The page numbers of the sources used to answer this question. Do not include a page number if the context is irrelevant.\")\n",
    "    confidence: float= Field(..., description=\"Confidence value between 0-1 of the correctness of the result.\")\n",
    "    confidence_explanation: str= Field(..., description=\"Explanation for the confidence score.\")\n",
    "\n",
    "sllm=llm.as_structured_llm(output_cls=Output)"
   ]
  },
  {
   "cell_type": "code",
   "execution_count": 8,
   "metadata": {},
   "outputs": [],
   "source": [
    "#Run queries\n",
    "query_engine= index.as_query_engine(\n",
    "    similarity_top_k= 5,\n",
    "    node_postprocessors=[reranker],\n",
    "    llm=sllm,\n",
    "    response_mode=\"tree_summarize\"\n",
    ")"
   ]
  },
  {
   "cell_type": "code",
   "execution_count": 9,
   "metadata": {},
   "outputs": [
    {
     "name": "stderr",
     "output_type": "stream",
     "text": [
      "You're using a XLMRobertaTokenizerFast tokenizer. Please note that with a fast tokenizer, using the `__call__` method is faster than using a method to encode the text followed by a call to the `pad` method to get a padded encoding.\n"
     ]
    },
    {
     "name": "stdout",
     "output_type": "stream",
     "text": [
      "{\"response\":\"Several controls are suggested for card payments security:\\n\\n1. **Adherence to Payment Card Industry (PCI) Standards**: This includes following various payment card standards such as PCI-PIN, PCI-PTS, PCI-HSM, and PCI-P2PE to ensure comprehensive payment card security.\\n\\n2. **Terminal Validation**: Ensuring that terminals installed at merchants for capturing card details are validated against the PCI-P2PE program and that PoS terminals with PIN entry are approved by the PCI-PTS program.\\n\\n3. **Securing Card Payment Infrastructure**: Acquirers should secure their card payment infrastructure using methods like Unique Key Per Terminal (UKPT), Derived Unique Key Per Transaction (DUKPT), or Terminal Line Encryption (TLE).\\n\\n4. **Hardware Security Module (HSM) Controls**: Implementing specific security controls at HSM, including logging, access control, and secure backups.\\n\\n5. **Staff Training**: Educating staff, especially those in fraud control, about frauds and training them in relevant skills and areas of expertise.\",\"page_numbers\":[18,12],\"confidence\":0.95,\"confidence_explanation\":\"The response is derived directly from the provided content on pages 18 and 12, which discuss various controls for card payments security.\"}\n"
     ]
    }
   ],
   "source": [
    "response=query_engine.query(\"What controls are suggested for card payments security?\")\n",
    "print(str(response))"
   ]
  },
  {
   "cell_type": "code",
   "execution_count": 10,
   "metadata": {},
   "outputs": [],
   "source": [
    "import json\n",
    "import pandas as pd\n",
    "raw_json=json.loads(str(response))\n",
    "df=pd.DataFrame([raw_json])"
   ]
  },
  {
   "cell_type": "code",
   "execution_count": 11,
   "metadata": {},
   "outputs": [
    {
     "name": "stdout",
     "output_type": "stream",
     "text": [
      "#Response: Several controls are suggested for card payments security:\n",
      "\n",
      "1. **Adherence to Payment Card Industry (PCI) Standards**: This includes following various payment card standards such as PCI-PIN, PCI-PTS, PCI-HSM, and PCI-P2PE to ensure comprehensive payment card security.\n",
      "\n",
      "2. **Terminal Validation**: Ensuring that terminals installed at merchants for capturing card details are validated against the PCI-P2PE program and that PoS terminals with PIN entry are approved by the PCI-PTS program.\n",
      "\n",
      "3. **Securing Card Payment Infrastructure**: Acquirers should secure their card payment infrastructure using methods like Unique Key Per Terminal (UKPT), Derived Unique Key Per Transaction (DUKPT), or Terminal Line Encryption (TLE).\n",
      "\n",
      "4. **Hardware Security Module (HSM) Controls**: Implementing specific security controls at HSM, including logging, access control, and secure backups.\n",
      "\n",
      "5. **Staff Training**: Educating staff, especially those in fraud control, about frauds and training them in relevant skills and areas of expertise.\n",
      "#Page Source: [18, 12]\n",
      "#Confidence: 0.95\n",
      "#Explanation: The response is derived directly from the provided content on pages 18 and 12, which discuss various controls for card payments security.\n"
     ]
    }
   ],
   "source": [
    "print('#Response: '+raw_json['response'])\n",
    "print('#Page Source: '+str(raw_json['page_numbers']))\n",
    "print('#Confidence: '+str(raw_json['confidence']))\n",
    "print('#Explanation: '+raw_json['confidence_explanation'])"
   ]
  },
  {
   "cell_type": "code",
   "execution_count": 12,
   "metadata": {},
   "outputs": [
    {
     "data": {
      "text/html": [
       "<div>\n",
       "<style scoped>\n",
       "    .dataframe tbody tr th:only-of-type {\n",
       "        vertical-align: middle;\n",
       "    }\n",
       "\n",
       "    .dataframe tbody tr th {\n",
       "        vertical-align: top;\n",
       "    }\n",
       "\n",
       "    .dataframe thead th {\n",
       "        text-align: right;\n",
       "    }\n",
       "</style>\n",
       "<table border=\"1\" class=\"dataframe\">\n",
       "  <thead>\n",
       "    <tr style=\"text-align: right;\">\n",
       "      <th></th>\n",
       "      <th>response</th>\n",
       "      <th>page_numbers</th>\n",
       "      <th>confidence</th>\n",
       "      <th>confidence_explanation</th>\n",
       "    </tr>\n",
       "  </thead>\n",
       "  <tbody>\n",
       "    <tr>\n",
       "      <th>0</th>\n",
       "      <td>Several controls are suggested for card paymen...</td>\n",
       "      <td>18, 12</td>\n",
       "      <td>0.95</td>\n",
       "      <td>The response is derived directly from the prov...</td>\n",
       "    </tr>\n",
       "  </tbody>\n",
       "</table>\n",
       "</div>"
      ],
      "text/plain": [
       "                                            response page_numbers  confidence  \\\n",
       "0  Several controls are suggested for card paymen...       18, 12        0.95   \n",
       "\n",
       "                              confidence_explanation  \n",
       "0  The response is derived directly from the prov...  "
      ]
     },
     "execution_count": 12,
     "metadata": {},
     "output_type": "execute_result"
    }
   ],
   "source": [
    "df['page_numbers']=df['page_numbers'].apply(lambda x: ', '.join(map(str, x)))\n",
    "df"
   ]
  },
  {
   "cell_type": "code",
   "execution_count": 13,
   "metadata": {},
   "outputs": [
    {
     "data": {
      "text/markdown": [
       "## Response: \n",
       "Several controls are suggested for card payments security:\n",
       "\n",
       "1. **Adherence to Payment Card Industry (PCI) Standards**: This includes following various payment card standards such as PCI-PIN, PCI-PTS, PCI-HSM, and PCI-P2PE to ensure comprehensive payment card security.\n",
       "\n",
       "2. **Terminal Validation**: Ensuring that terminals installed at merchants for capturing card details are validated against the PCI-P2PE program and that PoS terminals with PIN entry are approved by the PCI-PTS program.\n",
       "\n",
       "3. **Securing Card Payment Infrastructure**: Acquirers should secure their card payment infrastructure using methods like Unique Key Per Terminal (UKPT), Derived Unique Key Per Transaction (DUKPT), or Terminal Line Encryption (TLE).\n",
       "\n",
       "4. **Hardware Security Module (HSM) Controls**: Implementing specific security controls at HSM, including logging, access control, and secure backups.\n",
       "\n",
       "5. **Staff Training**: Educating staff, especially those in fraud control, about frauds and training them in relevant skills and areas of expertise."
      ],
      "text/plain": [
       "<IPython.core.display.Markdown object>"
      ]
     },
     "metadata": {},
     "output_type": "display_data"
    }
   ],
   "source": [
    "from IPython.display import Markdown\n",
    "display(Markdown('## Response: \\n'+raw_json['response']))"
   ]
  },
  {
   "cell_type": "code",
   "execution_count": 14,
   "metadata": {},
   "outputs": [
    {
     "data": {
      "text/markdown": [
       "### Response:\n",
       " Several controls are suggested for card payments security:\n",
       "\n",
       "1. **Adherence to Payment Card Industry (PCI) Standards**: This includes following various payment card standards such as PCI-PIN, PCI-PTS, PCI-HSM, and PCI-P2PE to ensure comprehensive payment card security.\n",
       "\n",
       "2. **Terminal Validation**: Ensuring that terminals installed at merchants for capturing card details are validated against the PCI-P2PE program and that PoS terminals with PIN entry are approved by the PCI-PTS program.\n",
       "\n",
       "3. **Securing Card Payment Infrastructure**: Acquirers should secure their card payment infrastructure using methods like Unique Key Per Terminal (UKPT), Derived Unique Key Per Transaction (DUKPT), or Terminal Line Encryption (TLE).\n",
       "\n",
       "4. **Hardware Security Module (HSM) Controls**: Implementing specific security controls at HSM, including logging, access control, and secure backups.\n",
       "\n",
       "5. **Staff Training**: Educating staff, especially those in fraud control, about frauds and training them in relevant skills and areas of expertise."
      ],
      "text/plain": [
       "<IPython.core.display.Markdown object>"
      ]
     },
     "metadata": {},
     "output_type": "display_data"
    },
    {
     "data": {
      "text/markdown": [
       "**Page Source:** [18, 12]"
      ],
      "text/plain": [
       "<IPython.core.display.Markdown object>"
      ]
     },
     "metadata": {},
     "output_type": "display_data"
    },
    {
     "data": {
      "text/markdown": [
       "**Confidence:** 0.95"
      ],
      "text/plain": [
       "<IPython.core.display.Markdown object>"
      ]
     },
     "metadata": {},
     "output_type": "display_data"
    },
    {
     "data": {
      "text/markdown": [
       "**Explanation**: The response is derived directly from the provided content on pages 18 and 12, which discuss various controls for card payments security."
      ],
      "text/plain": [
       "<IPython.core.display.Markdown object>"
      ]
     },
     "metadata": {},
     "output_type": "display_data"
    }
   ],
   "source": [
    "display(Markdown('### Response:\\n '+raw_json['response']))\n",
    "display(Markdown('**Page Source:** '+str(raw_json['page_numbers'])))\n",
    "display(Markdown('**Confidence:** '+str(raw_json['confidence'])))\n",
    "display(Markdown('**Explanation**: '+raw_json['confidence_explanation']))"
   ]
  },
  {
   "cell_type": "code",
   "execution_count": null,
   "metadata": {},
   "outputs": [],
   "source": []
  }
 ],
 "metadata": {
  "kernelspec": {
   "display_name": "mistral",
   "language": "python",
   "name": "python3"
  },
  "language_info": {
   "codemirror_mode": {
    "name": "ipython",
    "version": 3
   },
   "file_extension": ".py",
   "mimetype": "text/x-python",
   "name": "python",
   "nbconvert_exporter": "python",
   "pygments_lexer": "ipython3",
   "version": "3.11.10"
  }
 },
 "nbformat": 4,
 "nbformat_minor": 2
}
