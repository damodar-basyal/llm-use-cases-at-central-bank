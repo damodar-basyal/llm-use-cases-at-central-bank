{
 "cells": [
  {
   "cell_type": "code",
   "execution_count": 1,
   "metadata": {},
   "outputs": [],
   "source": [
    "from dotenv import load_dotenv\n",
    "import os\n",
    "import nest_asyncio\n",
    "nest_asyncio.apply()\n",
    "\n",
    "load_dotenv()\n",
    "api_key=os.getenv(\"MISTRAL_API_KEY\")"
   ]
  },
  {
   "cell_type": "code",
   "execution_count": 2,
   "metadata": {},
   "outputs": [],
   "source": [
    "from llama_index.core.tools import QueryEngineTool, ToolMetadata\n",
    "from llama_index.core import SimpleDirectoryReader, VectorStoreIndex, StorageContext, load_index_from_storage\n",
    "from llama_index.embeddings.mistralai import MistralAIEmbedding\n",
    "from llama_index.llms.mistralai import MistralAI\n",
    "from llama_index.core import Settings\n",
    "from IPython.display import Markdown\n",
    "\n",
    "#Setting up model\n",
    "embed_model= MistralAIEmbedding(api_key=api_key)\n",
    "llm= MistralAI(api_key=api_key)\n",
    "Settings.llm= llm\n",
    "Settings.embed_model=embed_model"
   ]
  },
  {
   "cell_type": "code",
   "execution_count": 3,
   "metadata": {},
   "outputs": [
    {
     "name": "stdout",
     "output_type": "stream",
     "text": [
      "MAS\n",
      "RBI\n",
      "BB\n"
     ]
    }
   ],
   "source": [
    "#Reading file name\n",
    "files=[file for file in os.listdir(\"../data/ict-policy/processed\") if file.endswith('.txt')]\n",
    "\n",
    "var_names=[]\n",
    "#Checking the results\n",
    "for i, file in enumerate(files):\n",
    "    var_name=file.split('.')[0]\n",
    "    var_names.append(var_name)\n",
    "    print(var_name)"
   ]
  },
  {
   "cell_type": "code",
   "execution_count": 4,
   "metadata": {},
   "outputs": [],
   "source": [
    "#Reading documents\n",
    "docs= {}\n",
    "for doc in var_names:\n",
    "    docs[doc]=SimpleDirectoryReader(input_files=[\"../data/ict-policy/processed/{}.txt\".format(doc)]).load_data()"
   ]
  },
  {
   "cell_type": "code",
   "execution_count": 5,
   "metadata": {},
   "outputs": [
    {
     "name": "stdout",
     "output_type": "stream",
     "text": [
      "MAS\n",
      "# 1 Preface\n",
      "\n",
      "1.1 The technology landscape of the financial sector is transforming at a rapid pace an\n",
      "RBI\n",
      "# Chapter I - Preliminary\n",
      "\n",
      "1 Short Title and Commencement\n",
      "\n",
      "(a) These Directions shall be called the \n",
      "BB\n",
      "# Preface\n",
      "\n",
      "The technology landscape of the financial sector is changing at a rapid pace and the unde\n"
     ]
    }
   ],
   "source": [
    "#Checking documents\n",
    "for doc in var_names:\n",
    "    print(doc)\n",
    "    print(docs[doc][0].text[:100])"
   ]
  },
  {
   "cell_type": "code",
   "execution_count": 6,
   "metadata": {},
   "outputs": [],
   "source": [
    "import re\n",
    "\n",
    "def split_by_chapters(text):\n",
    "    # Step 1: Split text into chapters by `#`\n",
    "    chapters = re.split(r\"(# .+)\", text)  # Match chapter titles starting with `# `\n",
    "    chapter_chunks = []\n",
    "\n",
    "    for i in range(1, len(chapters), 2):  # Iterate over matched chapter titles and their content\n",
    "        chapter_title = chapters[i].strip()\n",
    "        chapter_content = chapters[i + 1].strip()\n",
    "        # chapter_chunks.append(f\"{chapter_title}\\n{chapter_content}\")\n",
    "        chapter_chunks.append({\n",
    "            \"title\": chapter_title,\n",
    "            \"content\": chapter_content\n",
    "        })\n",
    "\n",
    "\n",
    "    return chapter_chunks"
   ]
  },
  {
   "cell_type": "code",
   "execution_count": 7,
   "metadata": {},
   "outputs": [],
   "source": [
    "# Split the text into chapterwise chunks\n",
    "chapter_chunks= {}\n",
    "for doc in var_names:\n",
    "    chapter_chunks[doc] = split_by_chapters(docs[doc][0].text)"
   ]
  },
  {
   "cell_type": "code",
   "execution_count": 12,
   "metadata": {},
   "outputs": [
    {
     "name": "stdout",
     "output_type": "stream",
     "text": [
      "MAS_Chunk: 1\n",
      "{'title': '# 1 Preface', 'content': '1.1 The technology landscape of the financial sector is transforming at a rapid pace and the underlying information technology (IT) infrastructure supporting financial services has grown in scope and complexity in recent years. Many financial institutions (FIs) are riding the wave of digitalisation to increase operational efficiency and to deliver better services to consumers.\\n\\n1.2 Digital transformation in the financial sector can be broadly characterised by the adoption of new technology and the use of existing technology in innovative ways to achieve greater automation and enrich financial service offerings.\\n\\n1.3 While digital transformation brings significant benefits to the financial ecosystem, it also increases FIs’ exposure to a range of technology risks, including cyber risk. The techniques used by cyber threat actors are becoming increasingly sophisticated, and weak links in the interconnected financial ecosystem can be compromised to carry out fraudulent financial transactions, exfiltrate sensitive financial data or disrupt IT systems that support financial services. Hence, each FI should seek to understand their exposure to technology risks and put in place a robust risk management framework to ensure IT and cyber resilience.\\n\\n1.4 The revised MAS Technology Risk Management Guidelines set out technology risk management principles and best practices for the financial sector, to guide FIs in the following:\\n\\n- (a) Establish Sound and Robust Technology Risk Governance and Oversight\\nThe board of directors and senior management at an FI play an integral part in the oversight and management of technology risk. The board of directors and senior management should cultivate a strong risk culture, and ensure the establishment of a sound and robust technology risk management framework.\\n- (b) Maintain Cyber Resilience\\nStrong cyber resilience is critical for sustaining trust and confidence in financial services. FIs should adopt a defence-in-depth approach to strengthening cyber resilience. It is also important that FIs establish and continuously improve their IT processes and controls to preserve confidentiality, integrity and availability of data and IT systems.'}\n",
      "MAS_Chunk: 2\n",
      "{'title': '# 2 Application of the MAS Technology Risk Management Guidelines', 'content': '2.1 The aim of the MAS Technology Risk Management Guidelines (hereafter referred as “the Guidelines”) is to promote the adoption of sound and robust practices for the management of technology risk.\\n\\n2.2 The Guidelines do not affect, and should not be regarded as a statement of the standard of care owed by FIs to their customers. The extent and degree to which an FI implements the Guidelines should be commensurate with the level of risk and complexity of the financial services offered and the technologies supporting such services. In supervising an FI, the degree of observance with the spirit of the Guidelines by an FI is an area of consideration by MAS.\\n\\n2.3 These Guidelines provide general guidance, and are not intended to be comprehensive nor replace or override any legislative provisions. They should be read in conjunction with the provisions of the relevant legislation, the subsidiary legislation made under the relevant legislation, as well as written directions, notices, codes and other guidelines that MAS may issue from time to time pursuant to the relevant legislation and subsidiary legislation.'}\n",
      "RBI_Chunk: 1\n",
      "{'title': '# Chapter I - Preliminary', 'content': '1 Short Title and Commencement\\n\\n(a) These Directions shall be called the Reserve Bank of India (Information Technology Governance, Risk, Controls and Assurance Practices) Directions, 2023.\\n\\n(b) These Directions incorporate, consolidate and update the guidelines, instructions and circulars on IT Governance, Risk, Controls, Assurance Practices and Business Continuity/ Disaster Recovery Management. The list of circulars repealed is given in Chapter VII of this Master Direction.\\n\\n(c) These Directions shall come into effect from April 1, 2024.\\n\\n2 Applicability\\n\\n(a) These Directions shall be applicable to the following entities (collectively referred to as ‘regulated entities’ or ’REs’ in these directions):\\n\\n(i) all Banking Companies1, Corresponding New Banks and State Bank of India as defined under subsections (c), (da) and (nc) of section 5 of the Banking Regulation Act, 1949 (collectively referred to as ‘commercial banks’ hereinafter).\\n\\n(ii) Non-Banking Financial Companies (hereinafter referred to as ‘NBFCs’) as defined under clause (f) of section 45I of the Reserve Bank of India Act, 1934 and included in the ‘Top Layer’, ‘Upper Layer’ and ‘Middle Layer’ defined in paragraphs 1.5, 1.4 and 1.3 respectively of the Annex to RBI circular DOR.CRE.REC.No.60/03.10.001/2021-22 dated October 22, 2021 on ‘Scale Based Regulation (SBR): A Revised Regulatory Framework for NBFCs’.\\n\\n(iii) Credit Information Companies as defined under clause (e) of section 2 of the Credit Information Companies (Regulation) Act, 2005 (hereinafter referred to as ‘Credit Information Companies’ or ‘CICs’).\\n\\n(iv) EXIM Bank, National Bank for Agriculture and Rural Development (‘NABARD’), National Bank for Financing Infrastructure and Development (‘NaBFID’), National Housing Bank (‘NHB’) and Small Industries Development Bank of India (‘SIDBI’) as established by the Export-Import Bank of India Act, 1981; the National Bank for Agriculture and Rural Development Act, 1981; the National Bank For Financing Infrastructure and Development Act, 2021; National Housing Bank Act, 1987 and the Small Industries Development Bank of India Act, 1989 respectively (hereinafter referred to as ‘All India Financial Institutions’ or ‘AIFIs’).\\n\\n(b) These Directions shall not be applicable to:\\n\\n(i) Local Area Banks\\n\\n(ii) NBFC-Core Investment Companies\\n\\n(c) In the case of foreign banks operating in India through branch mode, reference to the board or board of directors in these Directions should be read as reference to the controlling office/ head office which has the oversight over the branch operations in India. Further, such foreign banks shall be subject to a ‘comply or explain’ approach in terms of the applicability of these Directions. The ‘comply or explain’ approach shall allow such foreign banks to deviate\\nfrom any specific part of these Directions subject to examination and acceptance by Reserve Bank of a reasonably justifiable explanation for the same, as part of the supervisory process.\\n\\n\\n3 Definitions\\n\\n(a) In these Directions, unless the context states otherwise, the terms herein shall bear the meanings assigned to them below:\\n\\n  (i) ‘Cyber’ - Relating to, within, or through the medium of the interconnected information infrastructure of interactions among persons, processes, data, and information systems.\\n\\n  (ii) ‘Cyber event’ – Any observable occurrence in an information system. Cyber events sometimes provide indication that a cyber incident is occurring.\\n\\n  (iii) ‘Cyber security’ - Preservation of confidentiality, integrity and availability of information and/or information systems through the cyber medium. In addition, other properties, such as authenticity, accountability, non-repudiation and reliability can also be involved.\\n\\n  (iv) ‘Cyber incident’ shall mean a cyber event that adversely affects the cyber security of an information asset whether resulting from malicious activity or not.\\n\\n  (v) ‘Cyber-attack’ - Malicious attempt(s) to exploit vulnerabilities through the cyber medium to damage, disrupt or gain unauthorized access to assets.\\n\\n  (vi) ‘De-militarized Zone’ or ‘DMZ’ is a perimeter network segment that is logically between internal and external networks.\\n\\n  (vii) ‘Information Asset’ - Any piece of data, device or other component of the environment that supports information-related activities. Information Assets include information system, data, hardware and software.\\n\\n  (viii) ‘Information System’ - Set of applications, services, information technology assets or other information-handling components, which includes the operating environment and networks.\\n\\n  (ix) ‘IT Risk6’ - The business risk associated with the use, ownership, operation, involvement, influence and adoption of IT within an enterprise.\\n\\n  (x) ‘Privileged user7’ refers to user who, by virtue of function, and/or role, has been allocated powers within an information system, which are significantly greater than those available to the majority of users.\\n\\n(b) All expressions unless defined herein shall have the same meaning as have been assigned to them under the Banking Regulation Act, 1949 or the Reserve Bank of India Act, 1934 or Credit Information Companies (Regulation) Act, 2005 or Information Technology Act, 2000 or Companies Act, 2013 and Rules made thereunder or any statutory modification or re-enactment thereto or as used in RBI Directions / Circulars, as the case may be.'}\n",
      "RBI_Chunk: 2\n",
      "{'title': '# Chapter II - IT Governance', 'content': '4 IT Governance Framework\\n\\n(a) The key focus areas of IT Governance shall include strategic alignment, risk management, resource management, performance management and Business Continuity/ Disaster Recovery Management.\\n\\n(b) REs shall put in place a robust IT Governance Framework based on the aforementioned focus areas that inter alia:\\n\\n(i) specifies the governance structure and processes necessary to meet the RE’s business/ strategic objectives;\\n\\n(ii) specifies the roles (including authority) and responsibilities of the Board of Directors (Board) / Board level Committee and Senior Management; and\\n\\n(iii) includes adequate oversight mechanisms to ensure accountability and mitigation of IT and cyber/ information security risks.\\n\\n(c) Enterprise-wide risk management policy or operational risk management policy shall also incorporate periodic assessment of IT-related risks (both inherent and potential risk).\\n\\n\\n5 Role of the Board of Directors\\n\\n(a) The strategies and policies related to IT, Information Assets, Business Continuity, Information Security, Cyber Security (including Incident Response and Recovery Management/ Cyber Crisis Management) shall be approved by the Board of Directors.\\n\\n(b) Such strategies and policies shall be reviewed at least annually by the Board.\\n\\n\\n6 IT Strategy Committee of the Board\\n\\n(a) REs shall establish a Board-level IT Strategy Committee (ITSC)8.\\n\\n(b) While constituting the ITSC, REs shall ensure:\\n\\n(i) Minimum of three directors as members;\\n(ii) The Chairperson of the ITSC shall be an independent director and have substantial IT expertise9 in managing/ guiding information technology initiatives; and\\n(iii) Members are technically competent10.\\n\\n(c) The ITSC shall meet at least on a quarterly basis.\\n\\n(d) The ITSC shall:\\n\\n(i) Ensure that the RE has put an effective IT strategic planning process in place;\\n\\n(ii) Guide in preparation of IT Strategy and ensure that the IT Strategy aligns with the overall strategy of the RE towards accomplishment of its business objectives;\\n\\n(iii) Satisfy itself that the IT Governance and Information Security Governance structure fosters accountability, is effective and efficient, has adequate skilled resources, well defined objectives and unambiguous responsibilities for each level in the organisation;\\n\\n(iv) Ensure that the RE has put in place processes for assessing and managing IT and cybersecurity risks;\\n\\n(v) Ensure that the budgetary allocations for the IT function (including for IT security), cyber security are commensurate with the RE’s IT maturity, digital depth, threat environment and industry standards and are utilised in a manner intended for meeting the stated objectives; and\\n\\n(vi) Review, at least on annual basis, the adequacy and effectiveness of the Business Continuity Planning and Disaster Recovery Management of the RE.\\n\\n\\n7 Senior Management and IT Steering Committee\\n\\n(a) The Senior Management of the RE shall, inter alia, ensure:\\n\\n(i) Execution of the IT Strategy approved by the Board;\\n\\n(ii) IT/ IS and their support infrastructure are functioning effectively and efficiently;\\n\\n(iii) Necessary IT risk management processes are in place and create a culture of IT risk awareness and cyber hygiene practices in the RE;\\n\\n(iv) Cyber security posture of the RE is robust; and\\n\\n(v) Overall, IT contributes to productivity, effectiveness and efficiency in business operations.\\n\\n(b) REs shall establish an IT Steering Committee with representation at Senior Management level from IT and business functions.\\n\\n(c) The responsibilities of IT Steering Committee, inter alia, shall be to:\\n\\n(i) Assist the ITSC in strategic IT planning, oversight of IT performance, and aligning IT activities with business needs;\\n(ii) Oversee the processes put in place for business continuity and disaster recovery;\\n(iii) Ensure implementation of a robust IT architecture meeting statutory and regulatory compliance; and\\n(iv) Update ITSC and CEO periodically on the activities of IT Steering Committee.\\n\\n(d) The IT Steering Committee shall meet at least on a quarterly basis.\\n\\n\\n8 Head of IT Function\\n\\n(a) REs shall appoint a sufficiently senior level, technically competent and experienced official in IT related aspects as Head of IT Function.\\n\\n(b) The Head of IT Function shall, inter alia, be responsible for the following:\\n\\n(i) Ensuring that the execution of IT projects/ initiatives is aligned with the RE’s IT Policy and IT Strategy;\\n(ii) Ensuring that there is an effective organisational structure to support IT functions in the RE; and\\n(iii) Putting in place an effective disaster recovery setup and business continuity strategy/ plan.\\n\\n(c) As a first line of defence, the Head of IT Function shall ensure effective assessment, evaluation and management of IT controls and IT risk, including the implementation of robust internal controls, to (i) secure the RE’s information assets (ii) comply with extant internal policies, regulatory and legal requirements on IT related aspects.'}\n",
      "BB_Chunk: 1\n",
      "{'title': '# Preface', 'content': 'The technology landscape of the financial sector is changing at a rapid pace and the underlying information technology (IT) infrastructure supporting financial services has grown in size and complexity in recent years. Digital transformation in the financial sector can be characterized by the introduction of new technologies and the use of existing ones in innovative ways to achieve greater automation and enrich financial service delivery.\\n\\nWhile digital transformation offers significant benefits to the financial ecosystem, it also increases the exposure to a variety of technological risks, including cyber risks. The techniques used by cyber threat actors are becoming increasingly sophisticated, and weak links in the interconnected financial ecosystem can be compromised to conduct fraudulent financial transactions, exfiltrate sensitive financial data or disrupt the IT systems that support financial services. The increasing complexity of information and communication technology (ICT) and security risks, the increasing frequency of IT and security-related incidents as well as their potentially significant adverse impact on the operations of financial organizations. Moreover, due to the interconnectedness of the organizations, IT and security-related incidents risk causing systemic impacts. The introduction of emerging sustainable technology, formulation of proper security policies and practices, development of technology management skills and engagement of right human resources in the right place can overcome these challenges mostly.\\n\\nInformation security is essential to protect organizational assets against potential threats. Therefore, appropriate controls are required for an information security program with a broad, multi-layered security strategy.\\n\\nThis guideline sets out how Bank and other Financial Organizations (FOs) should manage the IT and security risks that they are exposed to. In addition, this guideline is intended to provide the Bank/FO to which the guidelines apply a better understanding of supervisory expectations regarding the management of IT and security related risks.'}\n",
      "BB_Chunk: 2\n",
      "{'title': '# Chapter 1: Introduction', 'content': 'The intricacy of information and communication technology (ICT) and consequent security risks are increasing in the financial sector at global scale. The frequency of ICT and security-related incidents (including cyber incidents) is rising, together with their potential significant adverse impact on financial organizations‘ operational activities. Moreover, due to the interconnectedness of financial organizations, ICT security-related incidents risk causing systemic impacts. Bangladesh Bank has responded to this by detailing how supervisor should cover ICT security risks within supervision, by detailing how financial organizations should manage outsourcing and by describing the expectations for ICT security management in this guideline. This guideline set out how banks and other financial organizations should manage the ICT and security risks that they are exposed to. In addition, this guidance aims to provide the banks and other financial institutions to which the guidelines apply with a better understanding of supervisory expectations for the management of ICT and security risks.\\n\\nInformation assets are critical to the services provided by the Banks and other financial organizations to their customers. ICT risk is also associated with a banking system that needs to be managed with thoughts and efforts. This revised version of the Guideline on ICT Security is to be used as a minimum requirement and as appropriate to the level of technology adoption of their operations.\\n\\n\\n1.1 Objectives\\n\\nThis Guideline defines minimum control requirements to which each the organization must adhere. The primary objectives of the Guideline are to:\\n\\na) Establish ICT Governance in the Financial Sector;\\nb) Help Organization developing their own ICT Security Policy;\\nc) Establish standard ICT Security Management approach;\\nd) Help Organization developing secure & reliable ICT infrastructure;\\ne) Establish secure environment for the processing of data;\\nf) Establish a holistic approach to ICT Risk management;\\ng) Establish a procedure for Business Impact Analysis in conjunction with ICT Risk Management;\\nh) Develop awareness of stakeholders‘ roles and responsibilities for the protection of information;\\ni) Prioritize information and ICT systems and associated risks those need to be mitigated;\\nj) Establish appropriate project management approach for ICT projects;\\nk) Ensure best practices (industry standard) of the usage of technology;\\nl) Develop a framework for timely and effective handling of operation and information security incidents;\\n\\n\\n1.2 Applicability of the Guideline\\n\\na) The guideline is applicable to Bank, Non-bank Financial Institute (NBFI), Mobile Financial Service Provider (MFSP), Payment Service Provider (PSP), Payment System Operator (PSO) and other financial service provider regulated by Bangladesh Bank. Throughout this guideline all these institutions will be termed together as “The Organization”.\\n\\nb) All activities and operations require to ensure overall security including facility design, physical security, application security, network security, ICT risk management, project management, infrastructure security management, service delivery management, disaster recovery and business continuity management, alternative delivery channels management, acquisition and development of information systems, usage of hardware and software, disposal policy, protection of copyrights and other intellectual property rights, cloud security management, secure incident handling, identity & access management, cyber security management and emerging technology management.\\n\\n\\n1.3 Non-Compliance of the Guideline\\n\\n1.3.1 The Organization shall assign a Team/Committee/Entity to monitor the compliance of the ICT security guidelines. A Team/Committee/Entity shall provide the initial observation of any non-compliance issue.\\n\\n1.3.2 The Organization shall take initiatives to rectify the non-compliance activities as per ICT security guidelines within a specific time frame.\\n\\n1.3.3 If The Organization fails to rectify the non-compliance activities within the time frame, penalty may be imposed depending on the impact of business or any adverse impact on customers’ interest.'}\n"
     ]
    }
   ],
   "source": [
    "#Checking chunk of all docs\n",
    "for doc in var_names:\n",
    "    for i, chunk in enumerate(chapter_chunks[doc][:2]):\n",
    "        print(f\"{doc}_Chunk: {i+1}\")\n",
    "        print(chunk)"
   ]
  },
  {
   "cell_type": "code",
   "execution_count": 13,
   "metadata": {},
   "outputs": [],
   "source": [
    "#Importing library for splitting\n",
    "from llama_index.core import Document\n",
    "import nltk\n",
    "\n",
    "def sentence_split(chapter_chunks):\n",
    "    nodes= []\n",
    "    for section in chapter_chunks:\n",
    "        # Preprocess the text to replace multiple consecutive newline characters with a single newline character\n",
    "        content = re.sub(r'\\n{2,}', '\\n', section[\"content\"])\n",
    "        # Preprocess the text to replace newline characters with a space\n",
    "        content = re.sub(r'(?<!\\.)\\n', '.\\n', content)\n",
    "        sentences=nltk.sent_tokenize(content)\n",
    "        for sentence in sentences:\n",
    "            node= Document(text=sentence,\n",
    "                        metadata={\n",
    "                            \"title\": section[\"title\"]\n",
    "                        })\n",
    "            nodes.append(node)\n",
    "    return nodes"
   ]
  },
  {
   "cell_type": "code",
   "execution_count": 14,
   "metadata": {},
   "outputs": [],
   "source": [
    "# Splitting chapter_chunks into sentences\n",
    "sentence_docs= {}\n",
    "for doc in var_names:\n",
    "    sentence_docs[doc]=sentence_split(chapter_chunks[doc])"
   ]
  },
  {
   "cell_type": "code",
   "execution_count": 15,
   "metadata": {},
   "outputs": [
    {
     "name": "stdout",
     "output_type": "stream",
     "text": [
      "\n",
      "MAS_Sentence 0:\n",
      "1.1 The technology landscape of the financial sector is transforming at a rapid pace and the underlying information technology (IT) infrastructure supporting financial services has grown in scope and complexity in recent years.\n",
      "\n",
      "MAS_Sentence 1:\n",
      "Many financial institutions (FIs) are riding the wave of digitalisation to increase operational efficiency and to deliver better services to consumers.\n",
      "\n",
      "RBI_Sentence 0:\n",
      "1 Short Title and Commencement.\n",
      "\n",
      "RBI_Sentence 1:\n",
      "(a) These Directions shall be called the Reserve Bank of India (Information Technology Governance, Risk, Controls and Assurance Practices) Directions, 2023.\n",
      "\n",
      "BB_Sentence 0:\n",
      "The technology landscape of the financial sector is changing at a rapid pace and the underlying information technology (IT) infrastructure supporting financial services has grown in size and complexity in recent years.\n",
      "\n",
      "BB_Sentence 1:\n",
      "Digital transformation in the financial sector can be characterized by the introduction of new technologies and the use of existing ones in innovative ways to achieve greater automation and enrich financial service delivery.\n"
     ]
    }
   ],
   "source": [
    "#Cecking sentence from each docs\n",
    "for doc in var_names:\n",
    "    for i in range(len(sentence_docs[doc][:2])):\n",
    "        print(f\"\\n{doc}_Sentence {i}:\")\n",
    "        print(sentence_docs[doc][i].get_content())\n",
    "        #print(\"Title: {}\".format(nodes[i].metadata.get(\"title\")))\n",
    "        #print(\"Window:\")\n",
    "        #print(nodes[i].metadata.get(\"window\"))"
   ]
  },
  {
   "cell_type": "code",
   "execution_count": 16,
   "metadata": {},
   "outputs": [],
   "source": [
    "#Building index\n",
    "index= {}\n",
    "index_directory='../data/ict-policy/index'\n",
    "for doc in var_names:\n",
    "    if not os.path.exists(index_directory+f'/{doc}'):\n",
    "        index[doc]=VectorStoreIndex.from_documents(sentence_docs[doc])\n",
    "        index[doc].storage_context.persist(persist_dir=index_directory+f'/{doc}')\n",
    "    else:\n",
    "        index[doc]= load_index_from_storage(StorageContext.from_defaults(persist_dir=index_directory+f'/{doc}'))"
   ]
  },
  {
   "cell_type": "code",
   "execution_count": 17,
   "metadata": {},
   "outputs": [],
   "source": [
    "from typing import List\n",
    "from llama_index.core.indices.vector_store.retrievers import VectorIndexRetriever\n",
    "from llama_index.core.schema import NodeWithScore, QueryBundle\n",
    "\n",
    "class AllNodesUniqueTitleVectorIndexRetriever(VectorIndexRetriever):\n",
    "    def __init__(self, *args, **kwargs):\n",
    "        # Set similarity_top_k to a very large number to retrieve all nodes\n",
    "        kwargs['similarity_top_k'] = 10000000000\n",
    "        super().__init__(*args, **kwargs)\n",
    "        self.chapter_chunks = kwargs.get('chapter_chunks', [])\n",
    "\n",
    "    def _retrieve(self, query_bundle: QueryBundle) -> List[NodeWithScore]:\n",
    "        # Call the parent class's _retrieve method to get all the initial results\n",
    "        initial_results = super()._retrieve(query_bundle)\n",
    "\n",
    "        # Filter out duplicate documents based on the \"title\" metadata\n",
    "        seen_titles = set()\n",
    "        unique_results = []\n",
    "        for result in initial_results:\n",
    "            title = result.node.metadata.get(\"title\", None)\n",
    "            if title and title not in seen_titles:\n",
    "                seen_titles.add(title)\n",
    "                unique_results.append(result)\n",
    "\n",
    "        # Sort the unique results by score (if available) and select the top 5\n",
    "        unique_results.sort(key=lambda x: x.score if x.score is not None else float('inf'), reverse=True)\n",
    "        top_5_unique_results = unique_results[:5]\n",
    "\n",
    "        # Replace text with window content after retrieval\n",
    "        top_5_unique_results = self._replace_text_with_window_content(top_5_unique_results)\n",
    "\n",
    "        return top_5_unique_results\n",
    "\n",
    "    def _replace_text_with_window_content(self, results: List[NodeWithScore]) -> List[NodeWithScore]:\n",
    "        for result in results:\n",
    "            title = result.node.metadata.get(\"title\")\n",
    "            window_content = next((chunk[\"content\"] for chunk in self.chapter_chunks if chunk[\"title\"] == title), result.node.text)\n",
    "            result.node.text = window_content\n",
    "        return results\n"
   ]
  },
  {
   "cell_type": "code",
   "execution_count": 18,
   "metadata": {},
   "outputs": [],
   "source": [
    "# Create an instance of the custom retriever\n",
    "retrievers= {}\n",
    "for doc in var_names:\n",
    "    retrievers[doc] = AllNodesUniqueTitleVectorIndexRetriever(index[doc], chapter_chunks=chapter_chunks[doc])"
   ]
  },
  {
   "cell_type": "code",
   "execution_count": 19,
   "metadata": {},
   "outputs": [],
   "source": [
    "#Creating query engine\n",
    "from llama_index.core.query_engine.retriever_query_engine import RetrieverQueryEngine\n",
    "\n",
    "query_engines= {}\n",
    "\n",
    "for doc in var_names:\n",
    "    query_engines[doc]= RetrieverQueryEngine.from_args(retrievers[doc])"
   ]
  },
  {
   "cell_type": "code",
   "execution_count": 20,
   "metadata": {},
   "outputs": [],
   "source": [
    "query_engine_tool= [\n",
    "    QueryEngineTool(\n",
    "        query_engine=query_engines['RBI'],\n",
    "        metadata= ToolMetadata(\n",
    "            name=\"rbi_ICT_document\",\n",
    "            description=(\n",
    "                \"Provide ICT guidelines of Reserve Bank of India (RBI).\"\n",
    "                \"Use a detailed plain text question as input to the tool.\"\n",
    "            )\n",
    "        )\n",
    "    ),\n",
    "    QueryEngineTool(\n",
    "        query_engine=query_engines['MAS'],\n",
    "        metadata= ToolMetadata(\n",
    "            name=\"mas_ICT_document\",\n",
    "            description=(\n",
    "                \"Provide ICT guidelines of Monetary Authority of Singapore (MAS).\"\n",
    "                \"Use a detailed plain text question as input to the tool.\"\n",
    "            )\n",
    "        )\n",
    "    ),\n",
    "    QueryEngineTool(\n",
    "        query_engine=query_engines['BB'],\n",
    "        metadata= ToolMetadata(\n",
    "            name=\"bangladesh_bank_ICT_document\",\n",
    "            description=(\n",
    "                \"Provide ICT guidelines of Bangladesh Bank (BB).\"\n",
    "                \"Use a detailed plain text question as input to the tool.\"\n",
    "            )\n",
    "        )\n",
    "    ),    \n",
    "]"
   ]
  },
  {
   "cell_type": "code",
   "execution_count": 17,
   "metadata": {},
   "outputs": [],
   "source": [
    "from llama_index.core.agent import ReActAgent\n",
    "\n",
    "agent= ReActAgent.from_tools(\n",
    "    query_engine_tool, verbose=True, allow_parallel_tool_calls=True\n",
    ")"
   ]
  },
  {
   "cell_type": "code",
   "execution_count": 18,
   "metadata": {},
   "outputs": [
    {
     "name": "stdout",
     "output_type": "stream",
     "text": [
      "> Running step 12039d78-bc2d-45cc-9819-75948f367d2e. Step input: What provisions are made for penetration testing at MAS, RBI and BB. When giving final answer, summarize it with heading for each tool response.\n",
      "\u001b[1;3;34mObservation: Error: Could not parse output. Please follow the thought-action-input format. Try again.\n",
      "\u001b[0m> Running step e8ed1b35-bca5-4a39-aacb-1e4c67a404fb. Step input: None\n",
      "\u001b[1;3;38;5;200mThought: The current language of the user is: English. I need to use a tool to help me answer the question.\n",
      "Action: mas_ICT_document\n",
      "Action Input: {'input': 'What provisions are made for penetration testing at MAS?'}\n",
      "\u001b[0m\u001b[1;3;34mObservation: Penetration testing should be conducted to evaluate the effectiveness of cyber security defenses. This includes a combination of blackbox and greybox testing for online financial services. To ensure a thorough assessment, penetration testing should target the production environment with proper safeguards in place. The frequency of penetration testing should be determined based on the system's criticality and exposure to cyber risks. For systems accessible from the Internet, penetration testing should be performed at least annually or after major changes. Additionally, a bug bounty program can be considered to complement penetration testing efforts.\n",
      "\u001b[0m> Running step bab5fe45-9dfc-40cb-84d1-2afd21b685f0. Step input: None\n",
      "\u001b[1;3;38;5;200mThought: I need to use a tool to help me answer the question.\n",
      "Action: rbi_ICT_document\n",
      "Action Input: {'input': 'What provisions are made for penetration testing at RBI?'}\n",
      "\u001b[0m\u001b[1;3;34mObservation: Penetration testing should be conducted at least annually for critical information systems and those in the De-Militarized Zone (DMZ) with customer interfaces. For non-critical systems, the frequency and necessity of penetration testing should be determined based on a risk-based approach. These tests should be performed by independent and trained information security experts or auditors. In post-implementation scenarios, penetration testing should ideally be done in the production environment, but if conducted in a test environment, it must closely resemble the production environment. Any deviations should be documented and approved by the Information Security Committee (ISC). Additionally, identified vulnerabilities should be addressed promptly to prevent recurrence.\n",
      "\u001b[0m> Running step 8edb1910-b34b-4d40-be87-d975a4b3b825. Step input: None\n",
      "\u001b[1;3;38;5;200mThought: I need to use a tool to help me answer the question.\n",
      "Action: bangladesh_bank_ICT_document\n",
      "Action Input: {'input': 'What provisions are made for penetration testing at BB?'}\n",
      "\u001b[0m\u001b[1;3;34mObservation: Penetration testing at BB is addressed through a methodology that includes several key provisions:\n",
      "\n",
      "- The methodology is based on industry-accepted penetration testing approaches, such as NIST SP800-115.\n",
      "- It covers critical systems and includes testing from both inside and outside the network.\n",
      "- It includes a review and consideration of threats and vulnerabilities experienced in the last 12 months.\n",
      "- It specifies the retention of penetration testing results and remediation results.\n",
      "- Penetration testing is performed at least annually and after any significant infrastructure or application upgrade or modification.\n",
      "\u001b[0m> Running step 6dcab535-3b02-4bce-8f8e-ab000cdcd38a. Step input: None\n",
      "\u001b[1;3;38;5;200mThought: I can answer without using any more tools. I'll use the user's language to answer\n",
      "Answer: ## Penetration Testing Provisions at MAS\n",
      "\n",
      "Penetration testing should be conducted to evaluate the effectiveness of cyber security defenses. This includes a combination of blackbox and greybox testing for online financial services. To ensure a thorough assessment, penetration testing should target the production environment with proper safeguards in place. The frequency of penetration testing should be determined based on the system's criticality and exposure to cyber risks. For systems accessible from the Internet, penetration testing should be performed at least annually or after major changes. Additionally, a bug bounty program can be considered to complement penetration testing efforts.\n",
      "\n",
      "## Penetration Testing Provisions at RBI\n",
      "\n",
      "Penetration testing should be conducted at least annually for critical information systems and those in the De-Militarized Zone (DMZ) with customer interfaces. For non-critical systems, the frequency and necessity of penetration testing should be determined based on a risk-based approach. These tests should be performed by independent and trained information security experts or auditors. In post-implementation scenarios, penetration testing should ideally be done in the production environment, but if conducted in a test environment, it must closely resemble the production environment. Any deviations should be documented and approved by the Information Security Committee (ISC). Additionally, identified vulnerabilities should be addressed promptly to prevent recurrence.\n",
      "\n",
      "## Penetration Testing Provisions at BB\n",
      "\n",
      "Penetration testing at BB is addressed through a methodology that includes several key provisions:\n",
      "\n",
      "- The methodology is based on industry-accepted penetration testing approaches, such as NIST SP800-115.\n",
      "- It covers critical systems and includes testing from both inside and outside the network.\n",
      "- It includes a review and consideration of threats and vulnerabilities experienced in the last 12 months.\n",
      "- It specifies the retention of penetration testing results and remediation results.\n",
      "- Penetration testing is performed at least annually and after any significant infrastructure or application upgrade or modification.\n",
      "\u001b[0m"
     ]
    }
   ],
   "source": [
    "response= agent.chat(\n",
    "    \"What provisions are made for penetration testing at MAS, RBI and BB. When giving final answer, summarize it with heading for each tool response.\"\n",
    ")"
   ]
  },
  {
   "cell_type": "code",
   "execution_count": 19,
   "metadata": {},
   "outputs": [
    {
     "data": {
      "text/markdown": [
       "## Penetration Testing Provisions at MAS\n",
       "\n",
       "Penetration testing should be conducted to evaluate the effectiveness of cyber security defenses. This includes a combination of blackbox and greybox testing for online financial services. To ensure a thorough assessment, penetration testing should target the production environment with proper safeguards in place. The frequency of penetration testing should be determined based on the system's criticality and exposure to cyber risks. For systems accessible from the Internet, penetration testing should be performed at least annually or after major changes. Additionally, a bug bounty program can be considered to complement penetration testing efforts.\n",
       "\n",
       "## Penetration Testing Provisions at RBI\n",
       "\n",
       "Penetration testing should be conducted at least annually for critical information systems and those in the De-Militarized Zone (DMZ) with customer interfaces. For non-critical systems, the frequency and necessity of penetration testing should be determined based on a risk-based approach. These tests should be performed by independent and trained information security experts or auditors. In post-implementation scenarios, penetration testing should ideally be done in the production environment, but if conducted in a test environment, it must closely resemble the production environment. Any deviations should be documented and approved by the Information Security Committee (ISC). Additionally, identified vulnerabilities should be addressed promptly to prevent recurrence.\n",
       "\n",
       "## Penetration Testing Provisions at BB\n",
       "\n",
       "Penetration testing at BB is addressed through a methodology that includes several key provisions:\n",
       "\n",
       "- The methodology is based on industry-accepted penetration testing approaches, such as NIST SP800-115.\n",
       "- It covers critical systems and includes testing from both inside and outside the network.\n",
       "- It includes a review and consideration of threats and vulnerabilities experienced in the last 12 months.\n",
       "- It specifies the retention of penetration testing results and remediation results.\n",
       "- Penetration testing is performed at least annually and after any significant infrastructure or application upgrade or modification."
      ],
      "text/plain": [
       "<IPython.core.display.Markdown object>"
      ]
     },
     "metadata": {},
     "output_type": "display_data"
    }
   ],
   "source": [
    "display(Markdown(response.response))"
   ]
  },
  {
   "cell_type": "code",
   "execution_count": 24,
   "metadata": {},
   "outputs": [
    {
     "name": "stdout",
     "output_type": "stream",
     "text": [
      "> Running step d2a8c98d-696c-4407-8ca9-62c97cd71db7. Step input: What provisions are made for IT governance at MAS, RBI and BB. When giving final answer, summarize it with heading for each tool response.\n",
      "\u001b[1;3;38;5;200mThought: The current language of the user is: English. I need to use a tool to help me answer the question.\n",
      "Action: mas_ICT_document\n",
      "Action Input: {'input': 'What provisions are made for IT governance at MAS?'}\n",
      "\u001b[0m\u001b[1;3;34mObservation: The provisions for IT governance include establishing a robust IT service management framework that supports IT services and operations, tracks information assets, manages changes, responds to incidents, and ensures the stability of the production IT environment. This framework comprises governance structure, processes, and procedures for various IT service management activities. Additionally, configuration management processes are implemented to maintain accurate information about hardware and software, and technology refresh management ensures that outdated hardware and software are replaced to avoid security risks. Patch management, change management, software release management, incident management, and problem management processes are also established to maintain the security and stability of IT systems.\n",
      "\u001b[0m> Running step e56d0ec7-407e-42a8-b54e-db97f21609d4. Step input: None\n",
      "\u001b[1;3;38;5;200mThought: I need to use a tool to help me answer the question.\n",
      "Action: rbi_ICT_document\n",
      "Action Input: {'input': 'What provisions are made for IT governance at RBI?'}\n",
      "\u001b[0m\u001b[1;3;34mObservation: The provisions for IT governance include establishing a robust IT Governance Framework that focuses on strategic alignment, risk management, resource management, performance management, and Business Continuity/Disaster Recovery Management. This framework specifies the governance structure and processes necessary to meet business objectives, defines roles and responsibilities of the Board of Directors and Senior Management, and includes oversight mechanisms to ensure accountability and mitigation of IT and cybersecurity risks. Additionally, enterprise-wide risk management policies must incorporate periodic assessment of IT-related risks.\n",
      "\u001b[0m> Running step 0925dd71-9511-426b-a3e3-8e8f6cdb58b6. Step input: None\n",
      "\u001b[1;3;38;5;200mThought: I need to use a tool to help me answer the question.\n",
      "Action: bangladesh_bank_ICT_document\n",
      "Action Input: {'input': 'What provisions are made for IT governance at BB?'}\n",
      "\u001b[0m\u001b[1;3;34mObservation: Several provisions are made for IT governance. These include ensuring efficient and effective management of ICT functions and operations, with top management responsible for implementing appropriate IT security controls. A dedicated ICT Security Management oversees various aspects, including roles and responsibilities, ICT security policy, documentation, audits, training, awareness, insurance, and risk coverage.\n",
      "\n",
      "Key stakeholders in ICT governance include the Board, ICT Steering Committee, ICT Security Committee, CEO/Managing Director, CIO, CTO, CITO, CISO, Risk Management Committee, Chief Risk Officer, and Business Executives. Each of these roles has specific responsibilities to ensure the alignment of ICT strategy with business objectives, monitor progress, provide guidance, and ensure compliance with regulatory requirements.\n",
      "\n",
      "Additionally, the organization must have an approved ICT Security Policy that is reviewed annually and managed by dedicated ICT security professionals. Compliance with this policy is mandatory, and non-compliance issues must be addressed promptly, with potential penalties for failure to rectify within specified timeframes.\n",
      "\u001b[0m> Running step 4c48b02f-652b-49e0-b519-24991e1311f5. Step input: None\n",
      "\u001b[1;3;34mObservation: Error: Could not parse output. Please follow the thought-action-input format. Try again.\n",
      "\u001b[0m> Running step 5cd74d2b-7864-47c6-946d-6b9d83756859. Step input: None\n",
      "\u001b[1;3;38;5;200mThought: (Implicit) I can answer without any more tools!\n",
      "Answer: ## IT Governance Provisions at MAS\n",
      "\n",
      "The provisions for IT governance include establishing a robust IT service management framework that supports IT services and operations, tracks information assets, manages changes, responds to incidents, and ensures the stability of the production IT environment. This framework comprises governance structure, processes, and procedures for various IT service management activities. Additionally, configuration management processes are implemented to maintain accurate information about hardware and software, and technology refresh management ensures that outdated hardware and software are replaced to avoid security risks. Patch management, change management, software release management, incident management, and problem management processes are also established to maintain the security and stability of IT systems.\n",
      "\n",
      "## IT Governance Provisions at RBI\n",
      "\n",
      "The provisions for IT governance include establishing a robust IT Governance Framework that focuses on strategic alignment, risk management, resource management, performance management, and Business Continuity/Disaster Recovery Management. This framework specifies the governance structure and processes necessary to meet business objectives, defines roles and responsibilities of the Board of Directors and Senior Management, and includes oversight mechanisms to ensure accountability and mitigation of IT and cybersecurity risks. Additionally, enterprise-wide risk management policies must incorporate periodic assessment of IT-related risks.\n",
      "\n",
      "## IT Governance Provisions at BB\n",
      "\n",
      "Several provisions are made for IT governance. These include ensuring efficient and effective management of ICT functions and operations, with top management responsible for implementing appropriate IT security controls. A dedicated ICT Security Management oversees various aspects, including roles and responsibilities, ICT security policy, documentation, audits, training, awareness, insurance, and risk coverage.\n",
      "\n",
      "Key stakeholders in ICT governance include the Board, ICT Steering Committee, ICT Security Committee, CEO/Managing Director, CIO, CTO, CITO, CISO, Risk Management Committee, Chief Risk Officer, and Business Executives. Each of these roles has specific responsibilities to ensure the alignment of ICT strategy with business objectives, monitor progress, provide guidance, and ensure compliance with regulatory requirements.\n",
      "\n",
      "Additionally, the organization must have an approved ICT Security Policy that is reviewed annually and managed by dedicated ICT security professionals. Compliance with this policy is mandatory, and non-compliance issues must be addressed promptly, with potential penalties for failure to rectify within specified timeframes.\n",
      "\u001b[0m"
     ]
    }
   ],
   "source": [
    "response= agent.chat(\n",
    "    \"\"\"What provisions are made for IT governance at MAS, RBI and BB. When giving final answer, summarize it with heading for each tool response.\"\"\"\n",
    ")"
   ]
  },
  {
   "cell_type": "code",
   "execution_count": 25,
   "metadata": {},
   "outputs": [
    {
     "data": {
      "text/markdown": [
       "## IT Governance Provisions at MAS\n",
       "\n",
       "The provisions for IT governance include establishing a robust IT service management framework that supports IT services and operations, tracks information assets, manages changes, responds to incidents, and ensures the stability of the production IT environment. This framework comprises governance structure, processes, and procedures for various IT service management activities. Additionally, configuration management processes are implemented to maintain accurate information about hardware and software, and technology refresh management ensures that outdated hardware and software are replaced to avoid security risks. Patch management, change management, software release management, incident management, and problem management processes are also established to maintain the security and stability of IT systems.\n",
       "\n",
       "## IT Governance Provisions at RBI\n",
       "\n",
       "The provisions for IT governance include establishing a robust IT Governance Framework that focuses on strategic alignment, risk management, resource management, performance management, and Business Continuity/Disaster Recovery Management. This framework specifies the governance structure and processes necessary to meet business objectives, defines roles and responsibilities of the Board of Directors and Senior Management, and includes oversight mechanisms to ensure accountability and mitigation of IT and cybersecurity risks. Additionally, enterprise-wide risk management policies must incorporate periodic assessment of IT-related risks.\n",
       "\n",
       "## IT Governance Provisions at BB\n",
       "\n",
       "Several provisions are made for IT governance. These include ensuring efficient and effective management of ICT functions and operations, with top management responsible for implementing appropriate IT security controls. A dedicated ICT Security Management oversees various aspects, including roles and responsibilities, ICT security policy, documentation, audits, training, awareness, insurance, and risk coverage.\n",
       "\n",
       "Key stakeholders in ICT governance include the Board, ICT Steering Committee, ICT Security Committee, CEO/Managing Director, CIO, CTO, CITO, CISO, Risk Management Committee, Chief Risk Officer, and Business Executives. Each of these roles has specific responsibilities to ensure the alignment of ICT strategy with business objectives, monitor progress, provide guidance, and ensure compliance with regulatory requirements.\n",
       "\n",
       "Additionally, the organization must have an approved ICT Security Policy that is reviewed annually and managed by dedicated ICT security professionals. Compliance with this policy is mandatory, and non-compliance issues must be addressed promptly, with potential penalties for failure to rectify within specified timeframes."
      ],
      "text/plain": [
       "<IPython.core.display.Markdown object>"
      ]
     },
     "metadata": {},
     "output_type": "display_data"
    }
   ],
   "source": [
    "display(Markdown(response.response))"
   ]
  },
  {
   "cell_type": "code",
   "execution_count": 27,
   "metadata": {},
   "outputs": [
    {
     "name": "stdout",
     "output_type": "stream",
     "text": [
      "> Running step 99c95331-da3c-4d8e-b5a1-7da37003bc2e. Step input: What role of board is envisioned for IT governance at MAS, RBI and BB. When giving final answer, summarize it with heading for each tool response.\n",
      "\u001b[1;3;38;5;200mThought: The current language of the user is: English. I need to use a tool to help me answer the question.\n",
      "Action: mas_ICT_document\n",
      "Action Input: {'input': 'What role of board is envisioned for IT governance at MAS?'}\n",
      "\u001b[0m\u001b[1;3;34mObservation: The board of directors is envisioned to play a pivotal role in IT governance at MAS. They are responsible for ensuring a sound and robust risk management framework is established and maintained to manage technology risks. This includes approving the risk appetite and risk tolerance statement, undertaking regular reviews of the technology risk management strategy, and assessing management competencies for managing technology risks. Additionally, the board should ensure an independent audit function is established to assess the effectiveness of controls, risk management, and governance of the FI. They are also accountable for giving senior executives sufficient authority, resources, and access to manage technology risks effectively.\n",
      "\u001b[0m> Running step 22bf6335-c094-4014-8084-bbefdb70e138. Step input: None\n",
      "\u001b[1;3;38;5;200mThought: I need to use a tool to help me answer the question.\n",
      "Action: rbi_ICT_document\n",
      "Action Input: {'input': 'What role of board is envisioned for IT governance at RBI?'}\n",
      "\u001b[0m\u001b[1;3;34mObservation: The Board of Directors is responsible for approving strategies and policies related to IT, Information Assets, Business Continuity, Information Security, and Cyber Security, including Incident Response and Recovery Management. These strategies and policies should be reviewed by the Board at least annually. Additionally, the Board oversees the establishment of a Board-level IT Strategy Committee (ITSC) to guide IT strategy and ensure effective IT governance and information security. The Board also reviews the adequacy and effectiveness of Business Continuity Planning and Disaster Recovery Management on an annual basis.\n",
      "\u001b[0m> Running step ca031af1-cd32-4d9b-b0b7-69bbe4d71361. Step input: None\n",
      "\u001b[1;3;38;5;200mThought: I need to use a tool to help me answer the question.\n",
      "Action: bangladesh_bank_ICT_document\n",
      "Action Input: {'input': 'What role of board is envisioned for IT governance at BB?'}\n",
      "\u001b[0m\u001b[1;3;34mObservation: The Board has several key roles in IT governance:\n",
      "\n",
      "- **Approving ICT Strategy and Policies**: The Board is responsible for approving the ICT strategy and policies to ensure they align with the business objectives and strategy.\n",
      "- **Ensuring Effective Planning**: The Board must ensure that management has an effective planning process in place.\n",
      "- **Aligning ICT Strategy with Business Strategy**: The Board endorses the alignment of the ICT strategy with the business strategy.\n",
      "- **Overseeing ICT Organizational Structure**: The Board ensures that the ICT organizational structure complements the business model and its direction.\n",
      "- **Balancing ICT Investments**: The Board ensures that ICT investments represent a balance of risks and benefits with acceptable budgets.\n",
      "- **Ensuring Accountability**: The Board ensures accountability within the ICT governance framework.\n",
      "- **Monitoring Compliance**: The Board ensures the compliance status of the ICT Security Policy.\n",
      "\u001b[0m> Running step 3d3c2fa6-ec24-43a5-a8d0-128c2ed44be1. Step input: None\n",
      "\u001b[1;3;38;5;200mThought: I can answer without using any more tools. I'll use the user's language to answer\n",
      "Answer: ## Role of Board in IT Governance at MAS\n",
      "\n",
      "The board of directors is envisioned to play a pivotal role in IT governance at MAS. They are responsible for ensuring a sound and robust risk management framework is established and maintained to manage technology risks. This includes approving the risk appetite and risk tolerance statement, undertaking regular reviews of the technology risk management strategy, and assessing management competencies for managing technology risks. Additionally, the board should ensure an independent audit function is established to assess the effectiveness of controls, risk management, and governance of the FI. They are also accountable for giving senior executives sufficient authority, resources, and access to manage technology risks effectively.\n",
      "\n",
      "## Role of Board in IT Governance at RBI\n",
      "\n",
      "The Board of Directors is responsible for approving strategies and policies related to IT, Information Assets, Business Continuity, Information Security, and Cyber Security, including Incident Response and Recovery Management. These strategies and policies should be reviewed by the Board at least annually. Additionally, the Board oversees the establishment of a Board-level IT Strategy Committee (ITSC) to guide IT strategy and ensure effective IT governance and information security. The Board also reviews the adequacy and effectiveness of Business Continuity Planning and Disaster Recovery Management on an annual basis.\n",
      "\n",
      "## Role of Board in IT Governance at BB\n",
      "\n",
      "The Board has several key roles in IT governance:\n",
      "\n",
      "- **Approving ICT Strategy and Policies**: The Board is responsible for approving the ICT strategy and policies to ensure they align with the business objectives and strategy.\n",
      "- **Ensuring Effective Planning**: The Board must ensure that management has an effective planning process in place.\n",
      "- **Aligning ICT Strategy with Business Strategy**: The Board endorses the alignment of the ICT strategy with the business strategy.\n",
      "- **Overseeing ICT Organizational Structure**: The Board ensures that the ICT organizational structure complements the business model and its direction.\n",
      "- **Balancing ICT Investments**: The Board ensures that ICT investments represent a balance of risks and benefits with acceptable budgets.\n",
      "- **Ensuring Accountability**: The Board ensures accountability within the ICT governance framework.\n",
      "- **Monitoring Compliance**:\n",
      "\u001b[0m"
     ]
    }
   ],
   "source": [
    "response= agent.chat(\n",
    "    \"\"\"What role of board is envisioned for IT governance at MAS, RBI and BB. When giving final answer, summarize it with heading for each tool response.\"\"\"\n",
    ")"
   ]
  },
  {
   "cell_type": "code",
   "execution_count": 28,
   "metadata": {},
   "outputs": [
    {
     "data": {
      "text/markdown": [
       "## Role of Board in IT Governance at MAS\n",
       "\n",
       "The board of directors is envisioned to play a pivotal role in IT governance at MAS. They are responsible for ensuring a sound and robust risk management framework is established and maintained to manage technology risks. This includes approving the risk appetite and risk tolerance statement, undertaking regular reviews of the technology risk management strategy, and assessing management competencies for managing technology risks. Additionally, the board should ensure an independent audit function is established to assess the effectiveness of controls, risk management, and governance of the FI. They are also accountable for giving senior executives sufficient authority, resources, and access to manage technology risks effectively.\n",
       "\n",
       "## Role of Board in IT Governance at RBI\n",
       "\n",
       "The Board of Directors is responsible for approving strategies and policies related to IT, Information Assets, Business Continuity, Information Security, and Cyber Security, including Incident Response and Recovery Management. These strategies and policies should be reviewed by the Board at least annually. Additionally, the Board oversees the establishment of a Board-level IT Strategy Committee (ITSC) to guide IT strategy and ensure effective IT governance and information security. The Board also reviews the adequacy and effectiveness of Business Continuity Planning and Disaster Recovery Management on an annual basis.\n",
       "\n",
       "## Role of Board in IT Governance at BB\n",
       "\n",
       "The Board has several key roles in IT governance:\n",
       "\n",
       "- **Approving ICT Strategy and Policies**: The Board is responsible for approving the ICT strategy and policies to ensure they align with the business objectives and strategy.\n",
       "- **Ensuring Effective Planning**: The Board must ensure that management has an effective planning process in place.\n",
       "- **Aligning ICT Strategy with Business Strategy**: The Board endorses the alignment of the ICT strategy with the business strategy.\n",
       "- **Overseeing ICT Organizational Structure**: The Board ensures that the ICT organizational structure complements the business model and its direction.\n",
       "- **Balancing ICT Investments**: The Board ensures that ICT investments represent a balance of risks and benefits with acceptable budgets.\n",
       "- **Ensuring Accountability**: The Board ensures accountability within the ICT governance framework.\n",
       "- **Monitoring Compliance**:"
      ],
      "text/plain": [
       "<IPython.core.display.Markdown object>"
      ]
     },
     "metadata": {},
     "output_type": "display_data"
    }
   ],
   "source": [
    "display(Markdown(response.response))"
   ]
  },
  {
   "cell_type": "code",
   "execution_count": null,
   "metadata": {},
   "outputs": [],
   "source": []
  }
 ],
 "metadata": {
  "kernelspec": {
   "display_name": "mistral",
   "language": "python",
   "name": "python3"
  },
  "language_info": {
   "codemirror_mode": {
    "name": "ipython",
    "version": 3
   },
   "file_extension": ".py",
   "mimetype": "text/x-python",
   "name": "python",
   "nbconvert_exporter": "python",
   "pygments_lexer": "ipython3",
   "version": "3.11.10"
  }
 },
 "nbformat": 4,
 "nbformat_minor": 2
}
