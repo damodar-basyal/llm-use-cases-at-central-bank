{
 "cells": [
  {
   "cell_type": "code",
   "execution_count": 1,
   "metadata": {},
   "outputs": [
    {
     "name": "stderr",
     "output_type": "stream",
     "text": [
      "[nltk_data] Downloading package punkt_tab to\n",
      "[nltk_data]     /Users/damodarbasyal/nltk_data...\n",
      "[nltk_data]   Package punkt_tab is already up-to-date!\n"
     ]
    },
    {
     "data": {
      "text/plain": [
       "True"
      ]
     },
     "execution_count": 1,
     "metadata": {},
     "output_type": "execute_result"
    }
   ],
   "source": [
    "#Importing library for splitting\n",
    "from llama_index.core import Document\n",
    "import nltk\n",
    "\n",
    "#Ensuring NLTK tokenizer is available\n",
    "nltk.download('punkt_tab')"
   ]
  },
  {
   "cell_type": "code",
   "execution_count": 2,
   "metadata": {},
   "outputs": [],
   "source": [
    "#Defining sections with their content and metadata\n",
    "sections=[\n",
    "    {\n",
    "        \"title\": \"EXECUTIVE SUMMARY\",\n",
    "        \"content\": \"\"\"The borrowers may, sometimes, find themselves in difficult situations to fulfill their financial commitments due to factors beyond their control despite their best possible efforts and good intentions. In such cases where the borrower has genuine reasons for their inability  to repay the loans as per the loan covenants, bank can restructure/reschedule the loan  considering the future outlook, business viability, borrower’s co-operative attitude and good intention, security position etc. Objective of this document is to provide a timely and transparent mechanism for loan restructuring of viable entities (borrowers) who are facing repayment problems due to genuine navoidable circumstances. The borrower must fulfill the eligibility criteria for availing restructuring/rescheduling facility. The facility shall not be provided to willful defaulters and blacklisted customers. The restructuring facility shall be provided and loan loss provisioning of such accounts shall be done in line with NRB Guidelines/circulars and policies of the bank. In case any point in Bank’s internal policy documents is inconsistent with any prevailing laws or NRB directives, to that extent shall be construed null or void.\"\"\",\n",
    "        \"page_number\": 1\n",
    "    },\n",
    "    {\n",
    "        \"title\": \"PREAMBLE\",\n",
    "        \"content\": \"\"\"The borrowers may, sometimes, find themselves in  difficult situations to fulfill their financial commitments due to factors beyond their control despite their best possible efforts and good intentions. In such cases where the borrower has genuine reasons for their inability, bank can offer handholding through loan restructuring considering the future outlook, business viability, borrower’s co-operative attitude and good intention, security position etc.\"\"\",\n",
    "        \"page_number\": 1\n",
    "    },\n",
    "    {\n",
    "        \"title\": \"DEFINITIONS\",\n",
    "        \"content\": \"\"\"- The “Bank” means “XYZ Bank”. \n",
    "                        - “Borrower” means an individual/company who has received loan from a bank.   \n",
    "                        - “Loan Restructuring” means changes in nature or the terms and conditions of loan. Bank provides Loan Restructuring facilities to its borrowers who are facing financial difficulties to repay their loans. The facilities include changing the terms and conditions of the loan  with addition/removal of restrictions etc., mainly relate to change in loan types, loan repayment terms, and change in loan covenants.   \n",
    "                        - “Loan Rescheduling” means extension of loan repayment period for the borrowers who are facing financing difficulties to repay the loan.\n",
    "                    \"\"\",\n",
    "        \"page_number\": 1\n",
    "    },\n",
    "    {\n",
    "        \"title\": \"OBJECTIVE\",\n",
    "        \"content\": \"\"\"The objective of this document is to provide a timely and transparent mechanism for loan restructuring of viable entities (borrowers) who are facing repayment problems due to genuine unavoidable circumstances. In particular, the document aims to preserve economic value, not ever greening, of units, by maintaining win-win situations for both the borrower and bank.\"\"\",\n",
    "        \"page_number\": 1\n",
    "    },\n",
    "    {\n",
    "        \"title\": \"DO’S AND DON’TS\",\n",
    "        \"content\": \"\"\"a) The bank will not restructure any account of willful defaulter.  \n",
    "                        b) Loan restructuring is a compromise, and not an obligation. The Bank will restructure only those accounts where a reasonable financial viability is established with good intentions of the borrower/s.  \n",
    "                        c) The bank will hold sole discretionary power to accept or reject loan rescheduling/restructuring request of the borrower.  \n",
    "                        d) The restructuring process must be in best interest of parties. The loan restructuring process should promote a trust, loyalty and honesty between the borrowers and bank and ensure that rights of each parties are protected properly.  \n",
    "                        e) Once the loan is restructured, both parties should abide the agreement. There should not be any change in the terms and conditions of the contracts, such as relaxation of collateral security, change in payment terms, etc., until the loan is categorized as normal pass loan. The borrower shall not take any action that negatively impacts its solvency and relations with the bank.  \n",
    "                        f) The restructuring proposal shall be reasonable and viable and within the standards of the bank.  \n",
    "                        g) The bank will not capitalize interest as a part of re-scheduling or restructuring package.  \n",
    "                        h) The Share loan will not be considered for restructuring/rescheduling unless there is provision to do so as per NRB regulation.  \n",
    "                        i) The restructuring process must be in line with the NRB Directives/Guidelines. \n",
    "                        j) In case of accounts having multiple banking, the restructuring should be as decided by the member banks. However, the bank will still hold sole discretionary power to accept or reject the proposal. \n",
    "                    \"\"\",\n",
    "        \"page_number\": 2\n",
    "    },\n",
    "    {\n",
    "        \"title\": \"ELIGIBILITY\",\n",
    "        \"content\": \"\"\"a) There must be a formal request from the borrower supported by Board Resolution, if required.  \n",
    "                        b) The restructuring proposal must be financially viable and there must be reasonable certainty of repayment from the borrower, as per agreed terms in the restructuring proposal.  \n",
    "                        c) Any account/borrower involved in frauds and malfeasance should not be eligible for restructuring.  \n",
    "                        d) The account must be in Pass/Watchlist/Substandard/Doubtful category and project/business must be in operation.  \n",
    "                        e) The account should not be blacklisted by the CIC. \n",
    "                    \"\"\",\n",
    "        \"page_number\": 2\n",
    "    },\n",
    "    {\n",
    "        \"title\": \"RESTRUCTURING PROCESS\",\n",
    "        \"content\": \"\"\"a) The Bank’s business unit/Branch shall identify the borrowers unable to fulfill their financial commitments or those with early warning signals of deterioration in the borrower’s capacity towards payment of loan (principal installment/interest dues) or depletion of loan repayment capacity as specified by the NRB from time to time, and will make follow-up with the borrower to fulfill the shortcomings and obligations. \n",
    "                        b) In response to the Bank’s follow-up for fulfilling the obligations, or on their own, if the borrower realizes that due to various factors, the obligations cannot be fulfilled currently in the agreed terms, however, under their specific future plan, assumes to fulfill the obligations, they shall approach the Bank for restructuring the facilities along with their business/restructuring plan.  \n",
    "                        c) Upon receipt of request from eligible customer, the respective business unit/branch shall analyze the proposal based on its merit, possibility of completion of the project within extended time period, repayment capacity of borrower.  \n",
    "                        d) Both parties (the borrower and the bank) shall make negotiations for restructuring and upon having agreed with Terms acceptable to both  parties, the proposal shall be forward for approval with proper justification and recommendation.  \n",
    "                        e) In case the account is in NPA category, recommendation of NPA Department  is required.  \n",
    "                        f) Having proposals duly received with proper justifications satisfying the criteria, facts of adequate security and payment as per commitments, the rescheduling/re-structuring proposal shall be approved.  \n",
    "                        g) Upon due approval, the required security documentation as mentioned in the approved document (Memo, CFR etc.,) shall be prepared and executed by CAS in co-ordination with respective relationship officer.\n",
    "                    \"\"\",\n",
    "        \"page_number\": 2\n",
    "    },\n",
    "    {\n",
    "        \"title\": \"APPROVING AUTHORITY\",\n",
    "        \"content\": \"\"\"a) Credit Committee and Board level cases – The Board.\n",
    "                        b) Management Level Cases – One level up than normal Lending Authority, highest being  CEO.  \n",
    "                        c) Credit Control Review: Required.\n",
    "                        d) Review/Recommendation of NPA Division: Required in case the account is categorized in NPA category. \n",
    "                    \"\"\",\n",
    "        \"page_number\": 3\n",
    "    },\n",
    "    {\n",
    "        \"title\": \"ACCOUNT CLASSIFICATION AND LOAN LOSS PROVISIONING\",\n",
    "        \"content\": \"\"\"All the accounts should be categorized under restructured category and Loan Loss provisioning must be as per the LLP policy of the Bank being within NRB regulations. \n",
    "                    \"\"\",\n",
    "        \"page_number\": 3\n",
    "    },\n",
    "    {\n",
    "        \"title\": \"MONITORING AND REPORTING\",\n",
    "        \"content\": \"\"\"a) The Restructured accounts should be tagged separately in the CBS. Portfolio review of such accounts shall be carried by Credit Risk Management Department on quarterly basis.  \n",
    "                        b) Individual Performance of the Restructured accounts should be reviewed on  semi-annual basis.                                         \n",
    "                    \"\"\",\n",
    "        \"page_number\": 3\n",
    "    }     \n",
    "]"
   ]
  },
  {
   "cell_type": "code",
   "execution_count": 3,
   "metadata": {},
   "outputs": [],
   "source": [
    "#Function to split content into sentences and add metadata\n",
    "def split_section_into_sentence_nodes(section):\n",
    "    sentences=nltk.sent_tokenize(section[\"content\"])\n",
    "    nodes= []\n",
    "    for sentence in sentences:\n",
    "        node= Document(text=sentence,\n",
    "                       metadata={\n",
    "                           \"title\": section[\"title\"],\n",
    "                           \"page_number\": section[\"page_number\"],\n",
    "                           \"window\": section[\"content\"]\n",
    "                       })\n",
    "        nodes.append(node)\n",
    "    return nodes"
   ]
  },
  {
   "cell_type": "code",
   "execution_count": 4,
   "metadata": {},
   "outputs": [],
   "source": [
    "#Create node from all sections\n",
    "all_nodes= []\n",
    "for section in sections:\n",
    "    all_nodes.extend(split_section_into_sentence_nodes(section))"
   ]
  },
  {
   "cell_type": "code",
   "execution_count": 5,
   "metadata": {},
   "outputs": [
    {
     "name": "stdout",
     "output_type": "stream",
     "text": [
      "\n",
      "Node 0:\n",
      "The borrowers may, sometimes, find themselves in difficult situations to fulfill their financial commitments due to factors beyond their control despite their best possible efforts and good intentions.\n",
      "Title: EXECUTIVE SUMMARY\n",
      "Window:\n",
      "The borrowers may, sometimes, find themselves in difficult situations to fulfill their financial commitments due to factors beyond their control despite their best possible efforts and good intentions. In such cases where the borrower has genuine reasons for their inability  to repay the loans as per the loan covenants, bank can restructure/reschedule the loan  considering the future outlook, business viability, borrower’s co-operative attitude and good intention, security position etc. Objective of this document is to provide a timely and transparent mechanism for loan restructuring of viable entities (borrowers) who are facing repayment problems due to genuine navoidable circumstances. The borrower must fulfill the eligibility criteria for availing restructuring/rescheduling facility. The facility shall not be provided to willful defaulters and blacklisted customers. The restructuring facility shall be provided and loan loss provisioning of such accounts shall be done in line with NRB Guidelines/circulars and policies of the bank. In case any point in Bank’s internal policy documents is inconsistent with any prevailing laws or NRB directives, to that extent shall be construed null or void.\n",
      "\n",
      "Node 1:\n",
      "In such cases where the borrower has genuine reasons for their inability  to repay the loans as per the loan covenants, bank can restructure/reschedule the loan  considering the future outlook, business viability, borrower’s co-operative attitude and good intention, security position etc.\n",
      "Title: EXECUTIVE SUMMARY\n",
      "Window:\n",
      "The borrowers may, sometimes, find themselves in difficult situations to fulfill their financial commitments due to factors beyond their control despite their best possible efforts and good intentions. In such cases where the borrower has genuine reasons for their inability  to repay the loans as per the loan covenants, bank can restructure/reschedule the loan  considering the future outlook, business viability, borrower’s co-operative attitude and good intention, security position etc. Objective of this document is to provide a timely and transparent mechanism for loan restructuring of viable entities (borrowers) who are facing repayment problems due to genuine navoidable circumstances. The borrower must fulfill the eligibility criteria for availing restructuring/rescheduling facility. The facility shall not be provided to willful defaulters and blacklisted customers. The restructuring facility shall be provided and loan loss provisioning of such accounts shall be done in line with NRB Guidelines/circulars and policies of the bank. In case any point in Bank’s internal policy documents is inconsistent with any prevailing laws or NRB directives, to that extent shall be construed null or void.\n",
      "\n",
      "Node 2:\n",
      "Objective of this document is to provide a timely and transparent mechanism for loan restructuring of viable entities (borrowers) who are facing repayment problems due to genuine navoidable circumstances.\n",
      "Title: EXECUTIVE SUMMARY\n",
      "Window:\n",
      "The borrowers may, sometimes, find themselves in difficult situations to fulfill their financial commitments due to factors beyond their control despite their best possible efforts and good intentions. In such cases where the borrower has genuine reasons for their inability  to repay the loans as per the loan covenants, bank can restructure/reschedule the loan  considering the future outlook, business viability, borrower’s co-operative attitude and good intention, security position etc. Objective of this document is to provide a timely and transparent mechanism for loan restructuring of viable entities (borrowers) who are facing repayment problems due to genuine navoidable circumstances. The borrower must fulfill the eligibility criteria for availing restructuring/rescheduling facility. The facility shall not be provided to willful defaulters and blacklisted customers. The restructuring facility shall be provided and loan loss provisioning of such accounts shall be done in line with NRB Guidelines/circulars and policies of the bank. In case any point in Bank’s internal policy documents is inconsistent with any prevailing laws or NRB directives, to that extent shall be construed null or void.\n"
     ]
    }
   ],
   "source": [
    "for i in range(len(all_nodes[:3])):\n",
    "    print(\"\\nNode {}:\".format(i))\n",
    "    print(all_nodes[i].get_content())\n",
    "    print(\"Title: {}\".format(all_nodes[i].metadata.get(\"title\")))\n",
    "    print(\"Window:\")\n",
    "    print(all_nodes[i].metadata.get(\"window\"))"
   ]
  },
  {
   "cell_type": "code",
   "execution_count": 6,
   "metadata": {},
   "outputs": [],
   "source": [
    "#Setting LLM and Embed Model\n",
    "from llama_index.core import Settings\n",
    "from llama_index.llms.mistralai import MistralAI\n",
    "from llama_index.embeddings.mistralai import MistralAIEmbedding    #Free version will cause error due to api rate limitation\n",
    "\n",
    "import os\n",
    "from dotenv import load_dotenv\n",
    "\n",
    "load_dotenv()\n",
    "\n",
    "api_key=os.getenv(\"MISTRAL_API_KEY\")\n",
    "llm=MistralAI(api_key=api_key)\n",
    "embed_model=MistralAIEmbedding(api_key=api_key)\n",
    "\n",
    "Settings.llm= llm\n",
    "Settings.embed_model= embed_model"
   ]
  },
  {
   "cell_type": "code",
   "execution_count": 7,
   "metadata": {},
   "outputs": [],
   "source": [
    "#Build the indexes\n",
    "from llama_index.core import VectorStoreIndex, StorageContext, load_index_from_storage\n",
    "\n",
    "index_dir=\"../data/compliance/index\"\n",
    "if not os.path.exists(index_dir):\n",
    "    sentence_index= VectorStoreIndex.from_documents(all_nodes)\n",
    "    sentence_index.storage_context.persist(persist_dir=index_dir)\n",
    "else:\n",
    "    sentence_index= load_index_from_storage(StorageContext.from_defaults(persist_dir=index_dir))"
   ]
  },
  {
   "cell_type": "code",
   "execution_count": 8,
   "metadata": {},
   "outputs": [],
   "source": [
    "#Querying\n",
    "from llama_index.core.postprocessor import MetadataReplacementPostProcessor\n",
    "\n",
    "query_engine= sentence_index.as_query_engine(\n",
    "    similarity_top_key=3,\n",
    "    node_postprocessors=[\n",
    "        MetadataReplacementPostProcessor(target_metadata_key=\"window\")\n",
    "    ],\n",
    "    #text_qa_template=custom_prompt\n",
    ")"
   ]
  },
  {
   "cell_type": "code",
   "execution_count": 9,
   "metadata": {},
   "outputs": [],
   "source": [
    "import json\n",
    "import pandas as pd\n",
    "def response(window_response):\n",
    "    title=[]\n",
    "    page_number=[]\n",
    "    for i in range(len(window_response.source_nodes)):\n",
    "        title.append(window_response.source_nodes[i].metadata.get(\"title\"))\n",
    "        page_number.append(window_response.source_nodes[0].metadata.get(\"page_number\"))\n",
    "    title=\", \".join(map(str, (set(title))))\n",
    "    page_number=\", \".join(map(str, (set(page_number))))\n",
    "    response=json.loads(str(window_response.response))\n",
    "    response[\"Referred\"]=\"Section: {}, Page Number: {}\".format(title, page_number)\n",
    "    df= pd.DataFrame([response])\n",
    "    df = df.style.set_properties(\n",
    "        **{\n",
    "            \"inline-size\": \"300px\",\n",
    "            \"overflow-wrap\": \"break-word\",\n",
    "            \"text-align\": \"left\",\n",
    "            \"vertical-align\": \"top\",  # Top align the text\n",
    "        },\n",
    "        subset=[\"NRB Provision\", \"Provisions Made by Bank\", \"Analysis\"]\n",
    "    ).set_properties(\n",
    "        **{\n",
    "            \"inline-size\": \"100px\",\n",
    "            \"text-align\": \"left\",\n",
    "            \"vertical-align\": \"top\",  # Top align the text\n",
    "        },\n",
    "        subset=[\"Compliance Status\", \"Referred\"]\n",
    "    ).set_table_styles(\n",
    "        [\n",
    "            {\n",
    "                'selector': 'thead th',\n",
    "                'props': [('text-align', 'center'), ('padding', '10px')]  # Center align headers\n",
    "            },\n",
    "            {\n",
    "                'selector': 'thead th, tbody th, tbody td',\n",
    "                'props': [('padding', '10px'), ('border', '1px solid #ddd')]  # Padding and border for cells\n",
    "            }\n",
    "        ]\n",
    "    ).set_properties(\n",
    "        **{\n",
    "            \"border-spacing\": \"10px\",  # Space between columns\n",
    "        }\n",
    "    )\n",
    "\n",
    "    display(df)\n",
    "    return df\n",
    "    #print(window_response.response+\" [See Section: {}, Page Number: {}]\".format(title, page_number))"
   ]
  },
  {
   "cell_type": "code",
   "execution_count": 10,
   "metadata": {},
   "outputs": [
    {
     "name": "stdout",
     "output_type": "stream",
     "text": [
      "The document explicitly states that banks will not restructure any account of a willful defaulter. This means that if a borrower is deliberately avoiding repayment of their loans, the bank will not consider their request for loan restructuring.\n",
      "\n",
      "The bank has complied with the provision that was asked.\n"
     ]
    }
   ],
   "source": [
    "window_response= query_engine.query(\"Willful defaulter should not be allowed for loan restructuring. Explain what is written in document. At the end please state whether bank has complied with provision that was asked?\")\n",
    "print(window_response.response)"
   ]
  },
  {
   "cell_type": "code",
   "execution_count": 11,
   "metadata": {},
   "outputs": [
    {
     "name": "stdout",
     "output_type": "stream",
     "text": [
      "Loan restructuring or rescheduling may be considered when borrowers face genuine, unavoidable circumstances that hinder their ability to repay loans as per the agreed terms. The bank evaluates several factors to ensure the loan can be recovered, including the future outlook of the borrower's business, its viability, the borrower's cooperative attitude and good intentions, and the security position. The bank follows a process that involves identifying borrowers in difficulty, reviewing their restructuring proposals, negotiating terms, and obtaining necessary approvals.\n",
      "\n",
      "The bank has complied with the provision that was asked.\n"
     ]
    }
   ],
   "source": [
    "window_response= query_engine.query(\"Load restructuring/rescheduling may only be considered if bank is confident that loan can be recovered. Explain what is written in document. At the end please state whether bank has complied with provision that was asked?\")\n",
    "print(window_response.response)"
   ]
  },
  {
   "cell_type": "code",
   "execution_count": 12,
   "metadata": {},
   "outputs": [
    {
     "name": "stdout",
     "output_type": "stream",
     "text": [
      "The process described does not explicitly mention the capitalization of interest as part of the restructuring process. The focus is on identifying borrowers facing difficulties, evaluating their restructuring proposals, negotiating terms, and obtaining necessary approvals. The steps involved include analyzing the proposal's merit, the borrower's repayment capacity, and ensuring adequate security, but there is no specific mention of interest capitalization.\n"
     ]
    }
   ],
   "source": [
    "window_response= query_engine.query(\"Can baank capitalize interest as part of restructuring process? Explain what is written in document.\")\n",
    "print(window_response.response)"
   ]
  },
  {
   "cell_type": "code",
   "execution_count": 13,
   "metadata": {},
   "outputs": [],
   "source": [
    "from llama_index.core.prompts import PromptTemplate\n",
    "\n",
    "# Define the custom prompt template\n",
    "custom_prompt_text = \"\"\"\n",
    "You are an agent responsible for checking compliance of a given document.\n",
    "You will be provided with:\n",
    "1. A section of the document that contains provisions made by a bank.\n",
    "2. A question about whether that provision has been complied with or not.\n",
    "\n",
    "Your task is to:\n",
    "1. State the **NRB Provision**\n",
    "2. State the **Provisions Made by Bank** regarding provided question/criteria.\n",
    "3. Determine the **Compliance Status** solely based on provided content: It could be \"Fully Complied\", \"Partially Complied\", or \"Not Complied\".\n",
    "4. Provide a **Analysis** explaining your conclusion.\n",
    "5. Provide the **Source** for any references made.\n",
    "\n",
    "Here is the section:\n",
    "{context_str}\n",
    "\n",
    "Here is the question:\n",
    "{query_str}\n",
    "\n",
    "Respond with your assessment in JSON format (without triple backticks for markdown) with the following keys:\n",
    "- NRB Provision\n",
    "- Provisions Made by Bank\n",
    "- Compliance Status\n",
    "- Analysis\n",
    "\n",
    "Your response should be solely based on provided context rather than using your prior knowledge.\n",
    "\"\"\"\n",
    "\n",
    "# Create the custom Prompt\n",
    "custom_prompt = PromptTemplate(custom_prompt_text)"
   ]
  },
  {
   "cell_type": "code",
   "execution_count": 14,
   "metadata": {},
   "outputs": [],
   "source": [
    "query_engine.update_prompts({\"response_synthesizer:text_qa_template\": custom_prompt})"
   ]
  },
  {
   "cell_type": "code",
   "execution_count": 15,
   "metadata": {},
   "outputs": [],
   "source": [
    "import json\n",
    "import pandas as pd\n",
    "\n",
    "def response(window_response):\n",
    "    title=[]\n",
    "    page_number=[]\n",
    "    for i in range(len(window_response.source_nodes)):\n",
    "        title.append(window_response.source_nodes[i].metadata.get(\"title\"))\n",
    "        page_number.append(window_response.source_nodes[0].metadata.get(\"page_number\"))\n",
    "    title=\", \".join(map(str, (set(title))))\n",
    "    page_number=\", \".join(map(str, (set(page_number))))\n",
    "    response=json.loads(str(window_response.response))\n",
    "    response[\"Referred\"]=\"Section: {}, Page Number: {}\".format(title, page_number)\n",
    "    df= pd.DataFrame([response])\n",
    "    return df\n",
    "    #print(window_response.response+\" [See Section: {}, Page Number: {}]\".format(title, page_number))"
   ]
  },
  {
   "cell_type": "code",
   "execution_count": 16,
   "metadata": {},
   "outputs": [],
   "source": [
    "def df_display(df):\n",
    "        df = df.style.set_properties(\n",
    "            **{\n",
    "                \"inline-size\": \"300px\",\n",
    "                \"overflow-wrap\": \"break-word\",\n",
    "                \"text-align\": \"left\",\n",
    "                \"vertical-align\": \"top\",  # Top align the text\n",
    "            },\n",
    "            subset=[\"NRB Provision\", \"Provisions Made by Bank\", \"Analysis\"]\n",
    "        ).set_properties(\n",
    "            **{\n",
    "                \"inline-size\": \"100px\",\n",
    "                \"text-align\": \"left\",\n",
    "                \"vertical-align\": \"top\",  # Top align the text\n",
    "            },\n",
    "            subset=[\"Compliance Status\", \"Referred\"]\n",
    "        ).set_table_styles(\n",
    "            [\n",
    "                {\n",
    "                    'selector': 'thead th',\n",
    "                    'props': [('text-align', 'center'), ('padding', '10px')]  # Center align headers\n",
    "                },\n",
    "                {\n",
    "                    'selector': 'thead th, tbody th, tbody td',\n",
    "                    'props': [('padding', '10px'), ('border', '1px solid #ddd')]  # Padding and border for cells\n",
    "                }\n",
    "            ]\n",
    "        ).set_properties(\n",
    "            **{\n",
    "                \"border-spacing\": \"10px\",  # Space between columns\n",
    "            }\n",
    "        )\n",
    "        display(df)"
   ]
  },
  {
   "cell_type": "code",
   "execution_count": 17,
   "metadata": {},
   "outputs": [
    {
     "data": {
      "text/html": [
       "<style type=\"text/css\">\n",
       "#T_820d3 thead th {\n",
       "  text-align: center;\n",
       "  padding: 10px;\n",
       "}\n",
       "#T_820d3 thead th {\n",
       "  padding: 10px;\n",
       "  border: 1px solid #ddd;\n",
       "}\n",
       "#T_820d3  tbody th {\n",
       "  padding: 10px;\n",
       "  border: 1px solid #ddd;\n",
       "}\n",
       "#T_820d3  tbody td {\n",
       "  padding: 10px;\n",
       "  border: 1px solid #ddd;\n",
       "}\n",
       "#T_820d3_row0_col0, #T_820d3_row0_col1, #T_820d3_row0_col3, #T_820d3_row1_col0, #T_820d3_row1_col1, #T_820d3_row1_col3, #T_820d3_row2_col0, #T_820d3_row2_col1, #T_820d3_row2_col3, #T_820d3_row3_col0, #T_820d3_row3_col1, #T_820d3_row3_col3 {\n",
       "  inline-size: 300px;\n",
       "  overflow-wrap: break-word;\n",
       "  text-align: left;\n",
       "  vertical-align: top;\n",
       "  border-spacing: 10px;\n",
       "}\n",
       "#T_820d3_row0_col2, #T_820d3_row0_col4, #T_820d3_row1_col2, #T_820d3_row1_col4, #T_820d3_row2_col2, #T_820d3_row2_col4, #T_820d3_row3_col2, #T_820d3_row3_col4 {\n",
       "  inline-size: 100px;\n",
       "  text-align: left;\n",
       "  vertical-align: top;\n",
       "  border-spacing: 10px;\n",
       "}\n",
       "</style>\n",
       "<table id=\"T_820d3\">\n",
       "  <thead>\n",
       "    <tr>\n",
       "      <th class=\"blank level0\" >&nbsp;</th>\n",
       "      <th id=\"T_820d3_level0_col0\" class=\"col_heading level0 col0\" >NRB Provision</th>\n",
       "      <th id=\"T_820d3_level0_col1\" class=\"col_heading level0 col1\" >Provisions Made by Bank</th>\n",
       "      <th id=\"T_820d3_level0_col2\" class=\"col_heading level0 col2\" >Compliance Status</th>\n",
       "      <th id=\"T_820d3_level0_col3\" class=\"col_heading level0 col3\" >Analysis</th>\n",
       "      <th id=\"T_820d3_level0_col4\" class=\"col_heading level0 col4\" >Referred</th>\n",
       "    </tr>\n",
       "  </thead>\n",
       "  <tbody>\n",
       "    <tr>\n",
       "      <th id=\"T_820d3_level0_row0\" class=\"row_heading level0 row0\" >1</th>\n",
       "      <td id=\"T_820d3_row0_col0\" class=\"data row0 col0\" >Loan restructuring/rescheduling may only be considered if the bank is confident that the loan can be recovered.</td>\n",
       "      <td id=\"T_820d3_row0_col1\" class=\"data row0 col1\" >The bank can restructure/reschedule the loan considering the future outlook, business viability, borrower’s co-operative attitude and good intention, security position etc. The facility shall not be provided to willful defaulters and blacklisted customers.</td>\n",
       "      <td id=\"T_820d3_row0_col2\" class=\"data row0 col2\" >Fully Complied</td>\n",
       "      <td id=\"T_820d3_row0_col3\" class=\"data row0 col3\" >The bank's provisions explicitly state that loan restructuring/rescheduling will be considered based on factors such as future outlook, business viability, borrower’s co-operative attitude, good intention, and security position. These factors align with the NRB provision that requires the bank to be confident in the loan's recoverability before considering restructuring/rescheduling. Additionally, the bank specifies that the facility will not be provided to willful defaulters and blacklisted customers, further ensuring that only viable entities are considered for restructuring.</td>\n",
       "      <td id=\"T_820d3_row0_col4\" class=\"data row0 col4\" >Section: EXECUTIVE SUMMARY, Page Number: 1</td>\n",
       "    </tr>\n",
       "    <tr>\n",
       "      <th id=\"T_820d3_level0_row1\" class=\"row_heading level0 row1\" >2</th>\n",
       "      <td id=\"T_820d3_row1_col0\" class=\"data row1 col0\" >The bank will not capitalize interest as a part of re-scheduling or restructuring package.</td>\n",
       "      <td id=\"T_820d3_row1_col1\" class=\"data row1 col1\" >The bank will not capitalize interest as a part of re-scheduling or restructuring package.</td>\n",
       "      <td id=\"T_820d3_row1_col2\" class=\"data row1 col2\" >Fully Complied</td>\n",
       "      <td id=\"T_820d3_row1_col3\" class=\"data row1 col3\" >The bank's provision explicitly states that it will not capitalize interest as part of the re-scheduling or restructuring package, which aligns perfectly with the NRB provision. Therefore, the bank is in full compliance with the NRB directive regarding the capitalization of interest in the restructuring process.</td>\n",
       "      <td id=\"T_820d3_row1_col4\" class=\"data row1 col4\" >Section: RESTRUCTURING PROCESS, DO’S AND DON’TS, Page Number: 2</td>\n",
       "    </tr>\n",
       "    <tr>\n",
       "      <th id=\"T_820d3_level0_row2\" class=\"row_heading level0 row2\" >3</th>\n",
       "      <td id=\"T_820d3_row2_col0\" class=\"data row2 col0\" >Loan provided against share are not allowed for restructuring/rescheuling.</td>\n",
       "      <td id=\"T_820d3_row2_col1\" class=\"data row2 col1\" >h) The Share loan will not be considered for restructuring/rescheduling unless there is provision to do so as per NRB regulation.</td>\n",
       "      <td id=\"T_820d3_row2_col2\" class=\"data row2 col2\" >Fully Complied</td>\n",
       "      <td id=\"T_820d3_row2_col3\" class=\"data row2 col3\" >The bank's provision explicitly states that share loans will not be considered for restructuring or rescheduling unless there is a specific provision to do so as per NRB regulation. This aligns with the NRB provision that loans provided against shares are not allowed for restructuring/rescheduling. Therefore, the bank is in full compliance with the NRB provision.</td>\n",
       "      <td id=\"T_820d3_row2_col4\" class=\"data row2 col4\" >Section: DO’S AND DON’TS, Page Number: 2</td>\n",
       "    </tr>\n",
       "    <tr>\n",
       "      <th id=\"T_820d3_level0_row3\" class=\"row_heading level0 row3\" >4</th>\n",
       "      <td id=\"T_820d3_row3_col0\" class=\"data row3 col0\" >Bank should provide 5 years flexibility to customer restructuring/rescheduling loan.</td>\n",
       "      <td id=\"T_820d3_row3_col1\" class=\"data row3 col1\" >The bank can restructure/reschedule the loan considering the future outlook, business viability, borrower’s co-operative attitude and good intention, security position etc. The restructuring facility shall be provided and loan loss provisioning of such accounts shall be done in line with NRB Guidelines/circulars and policies of the bank.</td>\n",
       "      <td id=\"T_820d3_row3_col2\" class=\"data row3 col2\" >Not Complied</td>\n",
       "      <td id=\"T_820d3_row3_col3\" class=\"data row3 col3\" >The provided document does not specify any time frame for the flexibility of restructuring/rescheduling loans. It only mentions that the bank can restructure/reschedule loans based on certain criteria and that the process will be in line with NRB guidelines and the bank's policies. Since there is no mention of a 5-year flexibility period, the bank has not complied with the specified NRB provision.</td>\n",
       "      <td id=\"T_820d3_row3_col4\" class=\"data row3 col4\" >Section: EXECUTIVE SUMMARY, Page Number: 1</td>\n",
       "    </tr>\n",
       "  </tbody>\n",
       "</table>\n"
      ],
      "text/plain": [
       "<pandas.io.formats.style.Styler at 0x17b0d1310>"
      ]
     },
     "metadata": {},
     "output_type": "display_data"
    }
   ],
   "source": [
    "#Checking compliance\n",
    "questions=[\"Load restructuring/rescheduling may only be considered if bank is confident that loan can be recovered.\",\n",
    "           \"Bank should not capitalize interest due as part of restructuring process?\",\n",
    "           \"Loan provided against share are not allowed for restructuring/rescheuling.\",\n",
    "           \"Bank should provide 5 years flexibility to customer restructuring/rescheduling loan.\"\n",
    "           ]\n",
    "response_df=pd.DataFrame()\n",
    "for criteria in questions:\n",
    "    window_response= query_engine.query(criteria)\n",
    "    df= response(window_response)\n",
    "    if response_df.empty:\n",
    "        response_df=df\n",
    "    else:\n",
    "        response_df=pd.concat([response_df,df], ignore_index=True)\n",
    "response_df.index=response_df.index+1\n",
    "df_display(response_df)"
   ]
  },
  {
   "cell_type": "markdown",
   "metadata": {},
   "source": [
    "## Saving the Result in Excel"
   ]
  },
  {
   "cell_type": "code",
   "execution_count": null,
   "metadata": {},
   "outputs": [],
   "source": [
    "#response_df.to_excel(\"../data/compliance/results.xlsx\", index=False)"
   ]
  },
  {
   "cell_type": "code",
   "execution_count": null,
   "metadata": {},
   "outputs": [],
   "source": []
  }
 ],
 "metadata": {
  "kernelspec": {
   "display_name": "mistral",
   "language": "python",
   "name": "python3"
  },
  "language_info": {
   "codemirror_mode": {
    "name": "ipython",
    "version": 3
   },
   "file_extension": ".py",
   "mimetype": "text/x-python",
   "name": "python",
   "nbconvert_exporter": "python",
   "pygments_lexer": "ipython3",
   "version": "3.11.10"
  }
 },
 "nbformat": 4,
 "nbformat_minor": 2
}
